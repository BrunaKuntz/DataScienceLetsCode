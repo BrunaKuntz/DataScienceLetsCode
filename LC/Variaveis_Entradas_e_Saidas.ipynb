{
  "nbformat": 4,
  "nbformat_minor": 0,
  "metadata": {
    "colab": {
      "name": "Untitled1.ipynb",
      "provenance": [],
      "authorship_tag": "ABX9TyN4BjqfiaWrwvx8ldA0xWLo",
      "include_colab_link": true
    },
    "kernelspec": {
      "name": "python3",
      "display_name": "Python 3"
    },
    "language_info": {
      "name": "python"
    }
  },
  "cells": [
    {
      "cell_type": "markdown",
      "metadata": {
        "id": "view-in-github",
        "colab_type": "text"
      },
      "source": [
        "<a href=\"https://colab.research.google.com/github/BrunaKuntz/DataScienceLetsCode/blob/main/Variaveis_Entradas_e_Saidas.ipynb\" target=\"_parent\"><img src=\"https://colab.research.google.com/assets/colab-badge.svg\" alt=\"Open In Colab\"/></a>"
      ]
    },
    {
      "cell_type": "markdown",
      "metadata": {
        "id": "2J41UspueB9f"
      },
      "source": [
        "# Exercícios LC | Variáveis, Entradas e Saídas\n",
        "\n",
        "## Curso Data Science Let's Code"
      ]
    },
    {
      "cell_type": "markdown",
      "metadata": {
        "id": "xDPUNakBeK8V"
      },
      "source": [
        "# Questão 1:\n",
        "Faça um programa que mostre a mensagem \"Olá, mundo!\" na tela.\n"
      ]
    },
    {
      "cell_type": "code",
      "metadata": {
        "id": "tOn6XRLIeS0G"
      },
      "source": [
        "print('Olá mundo.')"
      ],
      "execution_count": null,
      "outputs": []
    },
    {
      "cell_type": "markdown",
      "metadata": {
        "id": "kZvLEcF5eaSS"
      },
      "source": [
        "# Questão 2:\n",
        "Faça um programa que peça um número e mostre a mensagem \"O número informado foi [número]\".\n",
        "\n"
      ]
    },
    {
      "cell_type": "code",
      "metadata": {
        "id": "zAlm0hvxegV5"
      },
      "source": [
        "n = float(input('Digite um número: ')) \n",
        "print(f'O número digitado foi {n}.')"
      ],
      "execution_count": null,
      "outputs": []
    },
    {
      "cell_type": "markdown",
      "metadata": {
        "id": "jMOZv2_1elvv"
      },
      "source": [
        "# Questão 3:\n",
        "Faça um programa que peça um número para o usuário (string), converta-o para float e depois imprima-o na tela. Você consegue fazer a mesma coisa, porém convertendo para int?\n"
      ]
    },
    {
      "cell_type": "code",
      "metadata": {
        "id": "Z6C_oda1exK8"
      },
      "source": [
        "n = input('Digite um número: ') \n",
        "n = float(n) print(f'O número float digitado é: {n}') \n",
        "n = int(n) print(f'E em int é: {n}')"
      ],
      "execution_count": null,
      "outputs": []
    },
    {
      "cell_type": "markdown",
      "metadata": {
        "id": "ur5oKGjSe0OU"
      },
      "source": [
        "# Questão 4:\n",
        "Faça um programa que peça dois números inteiros e imprima a soma deles.\n",
        "\n"
      ]
    },
    {
      "cell_type": "code",
      "metadata": {
        "id": "4e2k1u_3e5hi"
      },
      "source": [
        "n1 = int(input('Digite o primeiro número: ')) \n",
        "n2 = int(input('Digite o segundo número: ')) \n",
        "soma = n1 + n2 \n",
        "print(f'A soma entre {n1} e {n2} é {soma}')"
      ],
      "execution_count": null,
      "outputs": []
    },
    {
      "cell_type": "markdown",
      "metadata": {
        "id": "v4gOm3qZt_kS"
      },
      "source": [
        "# Questão 5:\n",
        "Faça um programa que peça as 4 notas bimestrais de um aluno e mostre a média aritmética delas.\n",
        "\n"
      ]
    },
    {
      "cell_type": "code",
      "metadata": {
        "id": "wXkRoPJxuND-"
      },
      "source": [
        "n1 = float(input('Nota 1: ')) \n",
        "n2 = float(input('Nota 2: ')) \n",
        "n3 = float(input('Nota 3: ')) \n",
        "n4 = float(input('Nota 4: ')) \n",
        "\n",
        "m = (n1 + n2 + n3 + n4)/4 \n",
        "\n",
        "print(f'A média das notas é {m}')\n"
      ],
      "execution_count": null,
      "outputs": []
    },
    {
      "cell_type": "markdown",
      "metadata": {
        "id": "YWfqmivduK1s"
      },
      "source": [
        "# Questão 6:\n",
        "Faça um programa que peça o raio de um círculo, calcule e mostre sua área.\n",
        "\n",
        "Obs: Fórmula da área de um círculo: A = 3,14*(r**2), onde r é o raio."
      ]
    },
    {
      "cell_type": "code",
      "metadata": {
        "id": "TPBx8JvDuUn9"
      },
      "source": [
        "r = float(input('Digite o raio de um círculo: ')) \n",
        "a = 3.14 * (r**2) \n",
        "print(f'A área do círculo é {a}')"
      ],
      "execution_count": null,
      "outputs": []
    },
    {
      "cell_type": "markdown",
      "metadata": {
        "id": "yODDUSquuasY"
      },
      "source": [
        "# Questão 7:\n",
        "Faça um programa que pergunte quanto você ganha por hora e o número de horas trabalhadas no mês e depois, calcule e mostre o total do seu salário no referido mês."
      ]
    },
    {
      "cell_type": "code",
      "metadata": {
        "id": "f-OO0-CmujAF"
      },
      "source": [
        "ch = int(input('Quanto você ganha por hora? R$')) \n",
        "nh = int(input('Quantas horas você trabalhou este mês? ')) \n",
        "s = ch * nh \n",
        "print(f'Total do salário referido no mês: R${s:.2f}')"
      ],
      "execution_count": null,
      "outputs": []
    },
    {
      "cell_type": "markdown",
      "metadata": {
        "id": "Sr3EUCohunzv"
      },
      "source": [
        "# Questão 8:\n",
        "Faça um programa que peça a temperatura em graus Fahrenheit (F), transforme e mostre a temperatura em graus Celsius (°C).\n",
        "\n",
        "°C = (5 * (F-32) / 9)\n",
        "\n",
        "Obs: Tente também fazer um programa que faça o inverso: peça a temperatura em graus Celsius e a transforme em graus Fahrenheit."
      ]
    },
    {
      "cell_type": "code",
      "metadata": {
        "id": "t7HKV3kaus-t"
      },
      "source": [
        "f = float(input('Digite a temperatura em Fahrenheit: ')) \n",
        "c = (5(f-32))/9 print(f'Em Celsius dá {c:.1f}°C') \n",
        "\n",
        "c = float(input('Digite a temperatura em Celsius: ')) \n",
        "f = c1.8 + 32 print(f'Em Fahrenheit dá {f:.1f}°F')"
      ],
      "execution_count": null,
      "outputs": []
    },
    {
      "cell_type": "markdown",
      "metadata": {
        "id": "uWYR1zhruxB1"
      },
      "source": [
        "# Questão 9:\n",
        "Faça um programa que peça o dia, o mês e o ano para o usuário e imprima a data completa no formato dd/mm/aaaa."
      ]
    },
    {
      "cell_type": "code",
      "metadata": {
        "id": "UCz0nAxNu-40"
      },
      "source": [
        "d = int(input('Digite o dia: ')) \n",
        "m = int(input('Digite o mês: ')) \n",
        "a = int(input('Digite o ano: ')) \n",
        "print(f'A data é {d}/{m}/{a}')"
      ],
      "execution_count": null,
      "outputs": []
    },
    {
      "cell_type": "markdown",
      "metadata": {
        "id": "vyNNZX6AvBLS"
      },
      "source": [
        "# Questão 10:\n",
        "Faça um programa que peça 2 números inteiros e um número real, calcule e mostre:\n",
        "\n",
        "a) o produto do dobro do primeiro com metade do segundo.\n",
        "\n",
        "b) a soma do triplo do primeiro com o terceiro.\n",
        "\n",
        "c) o terceiro elevado ao cubo."
      ]
    },
    {
      "cell_type": "code",
      "metadata": {
        "id": "dnh_jL6VvJcb"
      },
      "source": [
        "n1 = int(input('Digite um número inteiro: ')) \n",
        "n2 = int(input('Digite outro número inteiro: ')) \n",
        "n3 = float(input('Digite um número real: ')) \n",
        "\n",
        "a = (n12)(n2/2) \n",
        "b = (n13) + n3 \n",
        "c = n3*3 \n",
        "\n",
        "print(f'a) o produto do dobro do primeiro com metade do segundo é {a}') \n",
        "print(f'b) a soma do triplo do primeiro com o terceiro é {b}') \n",
        "print(f'c) o terceiro elevado ao cubo é {c}')"
      ],
      "execution_count": null,
      "outputs": []
    },
    {
      "cell_type": "markdown",
      "metadata": {
        "id": "qeYzww0dvMTj"
      },
      "source": [
        "# Questão 11:\n",
        "Faça um programa que peça o peso e altura de uma pessoa e calcule seu IMC (Índice de Massa Corporal).\n",
        "\n",
        "Obs: IMC = Peso/Altura**2"
      ]
    },
    {
      "cell_type": "code",
      "metadata": {
        "id": "f8X1rvUTvRO9"
      },
      "source": [
        "p = float(input('Digite o peso: ')) \n",
        "a = float(input('Digite a altura: ')) \n",
        "imc = p/(a**2) \n",
        "print(f'O IMC é {imc:.2f}.')"
      ],
      "execution_count": null,
      "outputs": []
    },
    {
      "cell_type": "markdown",
      "metadata": {
        "id": "zEEilsY_vUXi"
      },
      "source": [
        "# Questão 12:\n",
        "\n",
        "Faça um programa que peça um valor monetário e aumente-o em 15%. Seu programa deve imprimir a mensagem “O novo valor é [valor]”."
      ]
    },
    {
      "cell_type": "code",
      "metadata": {
        "id": "6c3yi736vh6P"
      },
      "source": [
        "v = float(input('Digite um valor: R$')) \n",
        "nv = v + (v*0.15) \n",
        "print(f'O valor com aumento de 15% é R${nv:.2f}')"
      ],
      "execution_count": null,
      "outputs": []
    },
    {
      "cell_type": "markdown",
      "metadata": {
        "id": "JckDGXzFvjrc"
      },
      "source": [
        "# Questão 13:\n",
        "Faça um programa que peça um valor monetário e diminua-o em 15%. Seu programa deve imprimir a mensagem “O novo valor é [valor]”."
      ]
    },
    {
      "cell_type": "code",
      "metadata": {
        "id": "YWJk8pxyv2NC"
      },
      "source": [
        "v = float(input('Digite um valor: R$')) \n",
        "nv = v - (v*0.15) \n",
        "print(f'O valor com diminuição de 15% é R${nv:.2f}')"
      ],
      "execution_count": null,
      "outputs": []
    },
    {
      "cell_type": "markdown",
      "metadata": {
        "id": "W9o7D4Nwv5xb"
      },
      "source": [
        "# Questão 14:\n",
        "Desafio 1 - Peça para o usuário digitar uma velocidade inicial (em m/s), uma posição inicial (em m) e um instante de tempo (em s) e imprima a posição de um projétil nesse instante de tempo.\n",
        "\n",
        "Use a fórmula matemática:\n",
        "\n",
        "y(t) = y(0) + v(0)*t + (g*(t**2)/2)\n",
        "\n",
        "Onde, g é a aceleração da gravidade (-10m/s²), y(t) é a posição final, y(0) é a posição inicial, v(0) é a velocidade inicial e t é o instante de tempo."
      ]
    },
    {
      "cell_type": "code",
      "metadata": {
        "id": "sl9GZTlywI92"
      },
      "source": [
        "print('=-=-=-=-=-=-=-=-=-=- Posição Projétil -=-=-=-=-=-=-=-=-=-=') \n",
        "v = float(input('Digite a velocidade inicial em m/s: ')) \n",
        "p = float(input('Digite a posição inicial em m: ')) \n",
        "t = float(input('Digite o instante em tempo em s: ')) \n",
        "pos = p + (vt) + (-10(t**2)/2) \n",
        "print(f'A posição final do projétil nesse instante é de {pos}m')"
      ],
      "execution_count": null,
      "outputs": []
    },
    {
      "cell_type": "markdown",
      "metadata": {
        "id": "XaZ5QmzTwLRk"
      },
      "source": [
        "# Questão 15:\n",
        "Desafio 2 - Faça um programa que informe a data e a hora para o usuário. Para isso use a função datetime.now() do módulo datetime."
      ]
    },
    {
      "cell_type": "code",
      "metadata": {
        "id": "CLJgK7vGw-po"
      },
      "source": [
        "from datetime import datetime\n",
        "\n",
        "data_e_hora_atuais = datetime.now() \n",
        "data_e_hora_em_texto = data_e_hora_atuais.strftime('%d/%m/%Y %H:%M')\n",
        "\n",
        "print(data_e_hora_em_texto)"
      ],
      "execution_count": null,
      "outputs": []
    }
  ]
}
