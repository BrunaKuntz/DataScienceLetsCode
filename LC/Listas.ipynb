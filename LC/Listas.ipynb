{
  "nbformat": 4,
  "nbformat_minor": 0,
  "metadata": {
    "colab": {
      "name": "Untitled1.ipynb",
      "provenance": [],
      "authorship_tag": "ABX9TyOddTLbrJDWJavckNAp/BD/",
      "include_colab_link": true
    },
    "kernelspec": {
      "name": "python3",
      "display_name": "Python 3"
    },
    "language_info": {
      "name": "python"
    }
  },
  "cells": [
    {
      "cell_type": "markdown",
      "metadata": {
        "id": "view-in-github",
        "colab_type": "text"
      },
      "source": [
        "<a href=\"https://colab.research.google.com/github/BrunaKuntz/DataScienceLetsCode/blob/main/LC/Listas.ipynb\" target=\"_parent\"><img src=\"https://colab.research.google.com/assets/colab-badge.svg\" alt=\"Open In Colab\"/></a>"
      ]
    },
    {
      "cell_type": "markdown",
      "metadata": {
        "id": "2J41UspueB9f"
      },
      "source": [
        "# Exercícios LC | Listas\n",
        "\n",
        "## Curso Data Science Let's Code"
      ]
    },
    {
      "cell_type": "markdown",
      "metadata": {
        "id": "xDPUNakBeK8V"
      },
      "source": [
        "# Questão 1:\n",
        "Crie uma lista qualquer e faça um programa que imprima cada elemento da lista usando o for.\n",
        "\n"
      ]
    },
    {
      "cell_type": "code",
      "metadata": {
        "id": "tOn6XRLIeS0G"
      },
      "source": [
        "lista = ['Fora', 'Bolsonaro', 'Genocida'] \n",
        "for i in lista: \n",
        "  print(i)"
      ],
      "execution_count": null,
      "outputs": []
    },
    {
      "cell_type": "markdown",
      "metadata": {
        "id": "kZvLEcF5eaSS"
      },
      "source": [
        "# Questão 2:\n",
        "Faça um programa que peça para o usuário digitar um número n e imprima uma lista com todos os números de 0 a n-1.\n",
        "\n",
        "Exemplo: se o usuário digitar 5, o programa deve imprimir [0, 1, 2, 3, 4]"
      ]
    },
    {
      "cell_type": "code",
      "metadata": {
        "id": "zAlm0hvxegV5"
      },
      "source": [
        "n = int(input('Digite um número: ')) \n",
        "i = 0 \n",
        "lista = [] \n",
        "\n",
        "while i < n: \n",
        "  lista.append(i) \n",
        "  i += 1 \n",
        "\n",
        "print(lista)"
      ],
      "execution_count": null,
      "outputs": []
    },
    {
      "cell_type": "markdown",
      "metadata": {
        "id": "jMOZv2_1elvv"
      },
      "source": [
        "# Questão 3:\n",
        "Faça um programa que olhe todos os itens de uma lista e diga quantos deles são pares.\n",
        "\n",
        "\n"
      ]
    },
    {
      "cell_type": "code",
      "metadata": {
        "id": "Z6C_oda1exK8"
      },
      "source": [
        "lista = [0, 1, 2, 3, 4, 5, 6, 7, 8, 9, 10] \n",
        "lista_pares = [] \n",
        "for i in lista: \n",
        "  if i%2==0: \n",
        "    lista_pares.append(i) \n",
        "    \n",
        "print(f'Essa lista possui {len(lista_pares)} números pares: {lista_pares}')"
      ],
      "execution_count": null,
      "outputs": []
    },
    {
      "cell_type": "markdown",
      "metadata": {
        "id": "ur5oKGjSe0OU"
      },
      "source": [
        "# Questão 4:\n",
        "Faça um programa que imprima o maior número de uma lista, sem usar o método max().\n",
        "\n"
      ]
    },
    {
      "cell_type": "code",
      "metadata": {
        "id": "4e2k1u_3e5hi"
      },
      "source": [
        "lista = [0, 1, 2, 3, 4, 5, 6, 7, 8, 9, 10] \n",
        "max = lista[0]\n",
        "\n",
        "for i in lista: \n",
        "  if i >= max: \n",
        "    max = i \n",
        "    \n",
        "print(f'O maior número da lista é: {max}')"
      ],
      "execution_count": null,
      "outputs": []
    },
    {
      "cell_type": "markdown",
      "metadata": {
        "id": "v4gOm3qZt_kS"
      },
      "source": [
        "# Questão 5:\n",
        "Agora usando o método max() faça um programa que imprima os três maiores números de uma lista.\n",
        "\n",
        "Dica: Use o método próprio de listas .remove()."
      ]
    },
    {
      "cell_type": "code",
      "metadata": {
        "id": "wXkRoPJxuND-"
      },
      "source": [
        "lista = [0, 1, 2, 3, 4, 5, 6, 7, 8, 9, 10] \n",
        "lista_maiores = []\n",
        "\n",
        "for i in range(0, 3): \n",
        "  lista_maiores.append(max(lista)) \n",
        "  lista.remove(max(lista))\n",
        "\n",
        "print(lista_maiores)"
      ],
      "execution_count": null,
      "outputs": []
    },
    {
      "cell_type": "markdown",
      "metadata": {
        "id": "YWfqmivduK1s"
      },
      "source": [
        "# Questão 6:\n",
        "Faça um programa que, dadas duas listas de mesmo tamanho, crie uma nova lista com cada elemento igual a soma dos elementos da lista 1 com os da lista 2, na mesma posição.\n",
        "\n",
        "Exemplo: dadas lista1 = [1, 4, 5] e lista2 = [2, 2, 3], então lista3 = [1+2, 4+2, 5+3] = [3, 6, 8]"
      ]
    },
    {
      "cell_type": "code",
      "metadata": {
        "id": "TPBx8JvDuUn9"
      },
      "source": [
        "lista1 = [] \n",
        "lista2 = [] \n",
        "soma = []\n",
        "\n",
        "for i in range(1, 4): \n",
        "  n1 = int(input(f'Adicione o {i}° termo na primeira lista: ')) \n",
        "  lista1.append(n1) \n",
        "  n2 = int(input(f'Adicione o {i}° termo na segunda lista: ')) \n",
        "  lista2.append(n2) \n",
        "  s = n1 + n2 \n",
        "  soma.append(s)\n",
        "\n",
        "print(f'{lista1} + {lista2} = {soma}')"
      ],
      "execution_count": null,
      "outputs": []
    },
    {
      "cell_type": "markdown",
      "metadata": {
        "id": "yODDUSquuasY"
      },
      "source": [
        "# Questão 7:\n",
        "Faça um programa que dadas duas listas de mesmo tamanho, imprima o produto escalar entre elas.\n",
        "\n",
        "OBS: produto escalar é a soma do resultado da multiplicação entre o número na posição i da lista1 pelo número na posição i da lista2, com i variando de 0 ao tamanho da lista."
      ]
    },
    {
      "cell_type": "code",
      "metadata": {
        "id": "f-OO0-CmujAF"
      },
      "source": [
        "lista1 = [] \n",
        "lista2 = [] \n",
        "lista_produto_escalar = []\n",
        "\n",
        "for i in range(1, 4): \n",
        "  n1 = int(input(f'Adicione o {i}° termo na primeira lista: ')) \n",
        "  lista1.append(n1) \n",
        "  n2 = int(input(f'Adicione o {i}° termo na segunda lista: ')) \n",
        "  lista2.append(n2) \n",
        "  m = n1 * n2 \n",
        "  lista_produto_escalar.append(m)\n",
        "\n",
        "print(f'{lista1} + {lista2} = {sum(lista_produto_escalar)}')"
      ],
      "execution_count": null,
      "outputs": []
    },
    {
      "cell_type": "markdown",
      "metadata": {
        "id": "Sr3EUCohunzv"
      },
      "source": [
        "# Questão 8:\n",
        "Faça um programa que pede para o usuário digitar 5 números e, ao final, imprime uma lista com os 5 números digitados pelo usuário (sem converter os números para int ou float).\n",
        "\n",
        "Exemplo: Se o usuário digitar 1, 5, 2, 3, 6, o programa deve imprimir a lista ['1','5','2','3','6']"
      ]
    },
    {
      "cell_type": "code",
      "metadata": {
        "id": "t7HKV3kaus-t"
      },
      "source": [
        "lista = []\n",
        "\n",
        "for i in range(5): \n",
        "  n = input(\"Digite um número: \") \n",
        "  lista.append(n)\n",
        "\n",
        "print(lista)"
      ],
      "execution_count": null,
      "outputs": []
    },
    {
      "cell_type": "markdown",
      "metadata": {
        "id": "uWYR1zhruxB1"
      },
      "source": [
        "# Questão 9:\n",
        "Pegue a lista gerada no exercício anterior e transforme cada um dos itens dessa lista em um float.\n",
        "\n",
        "OBS: Não é para alterar o programa anterior, mas sim a lista gerada por ele."
      ]
    },
    {
      "cell_type": "code",
      "metadata": {
        "id": "UCz0nAxNu-40"
      },
      "source": [
        "lista = []\n",
        "\n",
        "for i in range(5): \n",
        "  n = input(\"Digite um número: \") \n",
        "  lista.append(n)\n",
        "\n",
        "print(lista)\n",
        "\n",
        "listaf = []\n",
        "\n",
        "for i in lista: \n",
        "  listaf.append(float(i))\n",
        "\n",
        "print(listaf)"
      ],
      "execution_count": null,
      "outputs": []
    },
    {
      "cell_type": "markdown",
      "metadata": {
        "id": "vyNNZX6AvBLS"
      },
      "source": [
        "# Questão 10:\n",
        "Faça um Programa que peça as 4 notas bimestrais e mostre a média aritmética delas, usando listas.\n",
        "\n"
      ]
    },
    {
      "cell_type": "code",
      "metadata": {
        "id": "dnh_jL6VvJcb"
      },
      "source": [
        "lista = []\n",
        "\n",
        "for i in range(1, 5): \n",
        "  n = float(input(f'Digite a sua {i}° nota: ')) \n",
        "  lista.append(n)\n",
        "\n",
        "print(f'A sua média foi: {(sum(lista))/len(lista):.2f}')"
      ],
      "execution_count": null,
      "outputs": []
    },
    {
      "cell_type": "markdown",
      "metadata": {
        "id": "qeYzww0dvMTj"
      },
      "source": [
        "# Questão 11:\n",
        "Sorteie uma lista de 10 números e imprima:\n",
        "\n",
        "a. uma lista com os 4 primeiros números;\n",
        "\n",
        "b. uma lista com os 5 últimos números;\n",
        "\n",
        "c. uma lista contendo apenas os elementos das posições pares;\n",
        "\n",
        "d. uma lista contendo apenas os elementos das posições ímpares;\n",
        "\n",
        "e. a lista inversa da lista sorteada (isto é, uma lista que começa com o último elemento da lista sorteada e termina com o primeiro);\n",
        "\n",
        "f. uma lista inversa dos 5 primeiros números;\n",
        "\n",
        "g. uma lista inversa dos 5 últimos números."
      ]
    },
    {
      "cell_type": "code",
      "metadata": {
        "id": "f8X1rvUTvRO9"
      },
      "source": [
        "from random import randint \n",
        "lista = [] \n",
        "lista_pares = [] \n",
        "lista_impares = []\n",
        "\n",
        "for i in range(10): \n",
        "  n = randint(1, 100) \n",
        "  if n%2 == 0: \n",
        "    lista_pares.append(n) \n",
        "  else: \n",
        "    lista_impares.append(n) \n",
        "  lista.append(n)\n",
        "\n",
        "print(lista) \n",
        "print(lista[:4]) \n",
        "print(lista[-5:])\n",
        "print(lista_pares) \n",
        "print(lista_impares) \n",
        "print(list(reversed(lista))) \n",
        "print(list(reversed(lista[:5]))) \n",
        "print(list(reversed(lista[-5:])))"
      ],
      "execution_count": null,
      "outputs": []
    },
    {
      "cell_type": "markdown",
      "metadata": {
        "id": "zEEilsY_vUXi"
      },
      "source": [
        "# Questão 12:\n",
        "\n",
        "Faça um programa que sorteia 10 números entre 0 e 100 e conte quantos números sorteados são maiores que 50."
      ]
    },
    {
      "cell_type": "code",
      "metadata": {
        "id": "6c3yi736vh6P"
      },
      "source": [
        "from random import randint \n",
        "lista = [] \n",
        "maior50 = []\n",
        "\n",
        "for i in range(10): \n",
        "  n = randint(1, 100) \n",
        "  if n>50: \n",
        "    maior50.append(n) \n",
        "  lista.append(n)\n",
        "\n",
        "print(lista) \n",
        "print(f'Você teve {len(maior50)} números maiores que 50: {maior50}')"
      ],
      "execution_count": null,
      "outputs": []
    },
    {
      "cell_type": "markdown",
      "metadata": {
        "id": "JckDGXzFvjrc"
      },
      "source": [
        "# Questão 13:\n",
        "Desafio 1 | Faça um programa que peça para o usuário digitar o nome e a idade de um aluno e o número de provas que esse aluno fez. Depois, o programa deve pedir para o usuário digitar as notas de cada prova do aluno. Ao final o programa deve imprimir uma lista contendo:\n",
        "\n",
        "a. Nome do aluno na posição 0\n",
        "\n",
        "b. Idade do aluno na posição 1\n",
        "\n",
        "c. Uma lista com todas as notas na posição 2\n",
        "\n",
        "d. A média do aluno na posição 3\n",
        "\n",
        "e. True ou False, caso a média seja maior que 5 ou não, na posição 4"
      ]
    },
    {
      "cell_type": "code",
      "metadata": {
        "id": "YWJk8pxyv2NC"
      },
      "source": [
        "lista = [] \n",
        "lista_notas = []\n",
        "\n",
        "lista.append(input('Nome do aluno: ')) \n",
        "lista.append(int(input('Idade do aluno: '))) \n",
        "n = int(input('Quantidade de provas que esse aluno fez: '))\n",
        "\n",
        "for i in range(1, n+1): \n",
        "  lista_notas.append(float(input(f'Nota na {i}° prova: ')))\n",
        "\n",
        "lista.append(lista_notas)\n",
        "\n",
        "m = sum(lista_notas)/len(lista_notas) \n",
        "lista.append(m)\n",
        "\n",
        "if m > 5: \n",
        "  lista.append(True) \n",
        "else: \n",
        "  lista.append(False)\n",
        "\n",
        "print(lista)"
      ],
      "execution_count": null,
      "outputs": []
    },
    {
      "cell_type": "markdown",
      "metadata": {
        "id": "W9o7D4Nwv5xb"
      },
      "source": [
        "# Questão 14:\n",
        "Faça um programa como o do item anterior, porém que imprima a média sem considerar a maior e menor nota do aluno (nesse caso o número de provas precisa ser obrigatoriamente maior que dois).\n",
        "\n",
        "Dica: crie uma cópia com a lista de todas as notas antes de fazer a média."
      ]
    },
    {
      "cell_type": "code",
      "metadata": {
        "id": "sl9GZTlywI92"
      },
      "source": [
        "lista = [] \n",
        "lista_notas = []\n",
        "\n",
        "lista.append(input('Nome do aluno: ')) \n",
        "lista.append(int(input('Idade do aluno: '))) \n",
        "n = int(input('Quantidade de provas que esse aluno fez: '))\n",
        "\n",
        "for i in range(1, n+1): \n",
        "  lista_notas.append(float(input(f'Nota na {i}° prova: ')))\n",
        "\n",
        "lista.append(lista_notas)\n",
        "\n",
        "lista_notas_modificada = lista_notas[:]\n",
        "\n",
        "lista_notas_modificada.remove(max(lista_notas_modificada)) \n",
        "lista_notas_modificada.remove(min(lista_notas_modificada))\n",
        "\n",
        "m = sum(lista_notas_modificada)/len(lista_notas_modificada) \n",
        "lista.append(m)\n",
        "\n",
        "if m > 5: \n",
        "  lista.append(True) \n",
        "else: \n",
        "  lista.append(False)\n",
        "\n",
        "print(lista)"
      ],
      "execution_count": null,
      "outputs": []
    }
  ]
}