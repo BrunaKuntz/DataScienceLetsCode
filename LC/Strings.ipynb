{
  "nbformat": 4,
  "nbformat_minor": 0,
  "metadata": {
    "colab": {
      "name": "Untitled1.ipynb",
      "provenance": [],
      "authorship_tag": "ABX9TyMu1pfrNcpEgWAe4suF991W",
      "include_colab_link": true
    },
    "kernelspec": {
      "name": "python3",
      "display_name": "Python 3"
    },
    "language_info": {
      "name": "python"
    }
  },
  "cells": [
    {
      "cell_type": "markdown",
      "metadata": {
        "id": "view-in-github",
        "colab_type": "text"
      },
      "source": [
        "<a href=\"https://colab.research.google.com/github/BrunaKuntz/DataScienceLetsCode/blob/main/LC/Strings.ipynb\" target=\"_parent\"><img src=\"https://colab.research.google.com/assets/colab-badge.svg\" alt=\"Open In Colab\"/></a>"
      ]
    },
    {
      "cell_type": "markdown",
      "metadata": {
        "id": "2J41UspueB9f"
      },
      "source": [
        "# Exercícios LC | Strings\n",
        "## Curso Data Science Let's Code"
      ]
    },
    {
      "cell_type": "markdown",
      "metadata": {
        "id": "xDPUNakBeK8V"
      },
      "source": [
        "# Questão 1:\n",
        "Faça um programa que peça para o usuário digitar uma palavra e imprima cada letra em uma linha.\n",
        "\n"
      ]
    },
    {
      "cell_type": "code",
      "metadata": {
        "id": "tOn6XRLIeS0G"
      },
      "source": [
        "palavra = input('Escreva uma palavra: ')\n",
        "\n",
        "for i in range(len(palavra)):\n",
        "  print(palavra[i])"
      ],
      "execution_count": null,
      "outputs": []
    },
    {
      "cell_type": "markdown",
      "metadata": {
        "id": "s25pUw4YyC7A"
      },
      "source": [
        "# Questão 2:\n",
        "Faça um programa que pede para o usuário digitar uma palavra e cria uma nova string igual, copiando letra por letra a palavra digitada, depois imprima a nova string.\n",
        "\n"
      ]
    },
    {
      "cell_type": "code",
      "metadata": {
        "id": "LgMN35UayLV8"
      },
      "source": [
        "palavra = input('Escreva uma palavra: ')\n",
        "novaPalavra = ''\n",
        "\n",
        "for i in range(len(palavra)):\n",
        "  novaPalavra = novaPalavra + palavra[i]\n",
        "\n",
        "print(novaPalavra)"
      ],
      "execution_count": null,
      "outputs": []
    },
    {
      "cell_type": "markdown",
      "metadata": {
        "id": "NuEobiWczQya"
      },
      "source": [
        "# Questão 3:\n",
        "Altere o exercício anterior para que a string copiada alterne entre letras maiúsculas e minúsculas.\n",
        "\n",
        "Exemplo: se o usuário digitar \"latex\" o programa deve imprimir \"LaTeX\"."
      ]
    },
    {
      "cell_type": "code",
      "metadata": {
        "id": "epjQy4U9zawu"
      },
      "source": [
        "palavra = input('Escreva uma palavra: ')\n",
        "novaPalavra = ''\n",
        "\n",
        "for i in range(len(palavra)):\n",
        "  if i % 2 ==  0:\n",
        "    novaPalavra = novaPalavra + palavra[i].upper()\n",
        "  else:\n",
        "    novaPalavra = novaPalavra + palavra[i]\n",
        "\n",
        "print(novaPalavra)"
      ],
      "execution_count": null,
      "outputs": []
    },
    {
      "cell_type": "markdown",
      "metadata": {
        "id": "93KzSYI80Fh0"
      },
      "source": [
        "# Questão 4:\n",
        "Faça um programa que pede para o usuário digitar uma palavra e cria uma nova string igual, porém com espaço entre cada letra, depois imprima a nova string:\n",
        "\n",
        "Exemplo: se o usuário digitar \"python\" o programa deve imprimir \"p y t h o n \""
      ]
    },
    {
      "cell_type": "code",
      "metadata": {
        "id": "tuuSav7L0IsK"
      },
      "source": [
        "palavra = input('Escreva uma palavra: ')\n",
        "novaPalavra = ''\n",
        "\n",
        "for i in range(len(palavra)):\n",
        "  novaPalavra = novaPalavra + palavra[i] + ' '\n",
        "\n",
        "print(novaPalavra)"
      ],
      "execution_count": null,
      "outputs": []
    },
    {
      "cell_type": "markdown",
      "metadata": {
        "id": "ldILs6Ex0U7L"
      },
      "source": [
        "# Questão 5:\n",
        "Faça uma função que receba uma string e retorne uma nova string substituindo:\n",
        "'a' por '4'\n",
        "'e' por '3'\n",
        "'I' por '1'\n",
        "'t' por '7'"
      ]
    },
    {
      "cell_type": "code",
      "metadata": {
        "id": "KUv1qLFx0fUs"
      },
      "source": [
        "palavra = input('Escreva uma palavra: ')\n",
        "novaPalavra = ''\n",
        "\n",
        "for i in range(len(palavra)):\n",
        "  if palavra[i].upper() == 'A':\n",
        "    novaPalavra = novaPalavra + '4'\n",
        "  elif palavra[i].upper() == 'E':\n",
        "    novaPalavra = novaPalavra + '3'\n",
        "  elif palavra[i].upper() == 'L':\n",
        "    novaPalavra = novaPalavra + '1'\n",
        "  elif palavra[i].upper() == 'T':\n",
        "    novaPalavra = novaPalavra + '7'\n",
        "  else:\n",
        "    novaPalavra = novaPalavra + palavra[i]\n",
        "\n",
        "print(novaPalavra)"
      ],
      "execution_count": null,
      "outputs": []
    },
    {
      "cell_type": "markdown",
      "metadata": {
        "id": "REx2SxR_1e_l"
      },
      "source": [
        "# Questão 6:\n",
        "Faça uma função que recebe uma string e retorna ela ao contrário.\n",
        "\n",
        "Exemplo: Recebe \"teste\" e retorna \"etset\"."
      ]
    },
    {
      "cell_type": "code",
      "metadata": {
        "id": "wp5XWxCQ1j36"
      },
      "source": [
        "palavra = input('Escreva uma palavra: ')\n",
        "novaPalavra = palavra[-1::-1]\n",
        "\n",
        "print(novaPalavra)"
      ],
      "execution_count": null,
      "outputs": []
    },
    {
      "cell_type": "markdown",
      "metadata": {
        "id": "XFmsa-044KxK"
      },
      "source": [
        "# Questão 7:\n",
        "Agora faça uma função que recebe uma palavra e diz se ela é um palíndromo, ou seja, se ela é igual a ela mesma ao contrário.\n",
        "\n",
        "Dica: Use a função do exercício 6."
      ]
    },
    {
      "cell_type": "code",
      "metadata": {
        "id": "n055h6Vf4OHu"
      },
      "source": [
        "palavra = input('Escreva uma palavra: ')\n",
        "novaPalavra = palavra[-1::-1]\n",
        "print(novaPalavra)\n",
        "if novaPalavra.lower() == palavra.lower():\n",
        "  print('É um palíndromo.')\n",
        "else:\n",
        "  print('Não é um palíndromo.')"
      ],
      "execution_count": null,
      "outputs": []
    },
    {
      "cell_type": "markdown",
      "metadata": {
        "id": "qKqjAYKq5Ve0"
      },
      "source": [
        "# Questão 8:\n",
        "Faça uma função que receba um texto e uma palavra, então verifique se a palavra está no texto, retornando True ou False."
      ]
    },
    {
      "cell_type": "code",
      "metadata": {
        "id": "KElmpvxf5Zd_"
      },
      "source": [
        "texto = input('Escreva um texto: ')\n",
        "palavra = input('Verifique se a palavra está no texto: ')\n",
        "\n",
        "texto = texto.split(' ')\n",
        "if palavra in texto:\n",
        "  print(True)\n",
        "else:\n",
        "  print(False)"
      ],
      "execution_count": null,
      "outputs": []
    },
    {
      "cell_type": "markdown",
      "metadata": {
        "id": "pz7cfdgFYa28"
      },
      "source": [
        "# Questão 9:\n",
        "Faça uma função que receba uma string que contém tanto números quanto letras e caracteres especiais, e que separe as letras em uma variável e os números em outra (os caracteres especiais podem ser descartados). Ao final a função deve imprimir as duas variáveis."
      ]
    },
    {
      "cell_type": "code",
      "metadata": {
        "id": "TpNwdAheYdsd"
      },
      "source": [
        "texto = input('Digite um texto com letras, números e caracteres especiais: ')\n",
        "letras = []\n",
        "numeros = []\n",
        "\n",
        "for i in range(len(texto)):\n",
        "  if texto[i] in '1234567890':\n",
        "    numeros.append(texto[i])\n",
        "  elif texto[i].lower() in 'abcdefghijklmnopqrstuvwxyz':\n",
        "    letras.append(texto[i])\n",
        "  else:\n",
        "    pass\n",
        "\n",
        "print(f'Letras: {letras}')\n",
        "print(f'Números: {numeros}')"
      ],
      "execution_count": null,
      "outputs": []
    },
    {
      "cell_type": "markdown",
      "metadata": {
        "id": "cYRFqsFUb26e"
      },
      "source": [
        "# Questão 10:\n",
        "Desafio - Faça uma função que receba uma string e uma letra e:\n",
        "\n",
        "a. imprima quantas vezes a letra aparece na string;\n",
        "\n",
        "b. imprima todas as posições em que a letra aparece na string;\n",
        "\n",
        "c. retorne a distância entre a primeira e a última aparição dessa letra na string."
      ]
    },
    {
      "cell_type": "code",
      "metadata": {
        "id": "DwCxvZTrckgX"
      },
      "source": [
        "def contstring(texto, letra):\n",
        "  lista = []\n",
        "\n",
        "  a = texto.lower().count(letra.lower())\n",
        "\n",
        "  for i in range(len(texto)):\n",
        "    if texto[i].lower() == letra.lower():\n",
        "      lista.append(i)\n",
        "      texto.replace(texto[i], '')\n",
        "\n",
        "  \n",
        "  b = lista\n",
        "\n",
        "  c = lista[-1] - lista[0]\n",
        "\n",
        "  print(f'A letra {letra} aparece {a} vezes no texto.')\n",
        "  print(f'A letra {letra} aparece nas posições: {b}')\n",
        "  print(f'A distância entre a primeira e última aparição é: {c}')\n",
        "\n",
        "contstring('teste', 'e')"
      ],
      "execution_count": null,
      "outputs": []
    },
    {
      "cell_type": "markdown",
      "metadata": {
        "id": "VJx6StJQm9lf"
      },
      "source": [
        "# Questão 11:\n",
        "Super Desafio! - faça uma função que criptografa uma mensagem substituindo cada letra pela letra oposta do dicionário:\n",
        "\n",
        "'a' por 'z'\n",
        "\n",
        "'b' por 'y'\n",
        "\n",
        "'c' por 'x'\n",
        "\n",
        "..."
      ]
    },
    {
      "cell_type": "code",
      "metadata": {
        "id": "nhvJoDGGnZY3"
      },
      "source": [
        "def criptografia(mensagem):\n",
        "  lista = ['a', 'b', 'c', 'd', 'e', 'f', 'g', 'h', 'i', 'j', 'k', 'l', 'm', 'n', 'o', 'p', 'q', 'r', 's', 't', 'u', 'v', 'w', 'x', 'y', 'z']\n",
        "  frase_nova = ''\n",
        "  for i in range(len(mensagem)):\n",
        "    if mensagem[i] == ' ':\n",
        "      frase_nova += mensagem[i]\n",
        "    elif mensagem[i] in '1234567890':\n",
        "      frase_nova += mensagem[i]\n",
        "    else:\n",
        "      index = lista.index(mensagem[i].lower())\n",
        "      frase_nova += lista[-(index + 1)]\n",
        "  print(frase_nova) \n",
        "\n",
        "criptografia('Azuleijo')"
      ],
      "execution_count": null,
      "outputs": []
    }
  ]
}