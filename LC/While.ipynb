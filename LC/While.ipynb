{
  "nbformat": 4,
  "nbformat_minor": 0,
  "metadata": {
    "colab": {
      "name": "Untitled1.ipynb",
      "provenance": [],
      "authorship_tag": "ABX9TyPa2UbZmeAF52xY7ymPYadc",
      "include_colab_link": true
    },
    "kernelspec": {
      "name": "python3",
      "display_name": "Python 3"
    },
    "language_info": {
      "name": "python"
    }
  },
  "cells": [
    {
      "cell_type": "markdown",
      "metadata": {
        "id": "view-in-github",
        "colab_type": "text"
      },
      "source": [
        "<a href=\"https://colab.research.google.com/github/BrunaKuntz/DataScienceLetsCode/blob/main/LC/While.ipynb\" target=\"_parent\"><img src=\"https://colab.research.google.com/assets/colab-badge.svg\" alt=\"Open In Colab\"/></a>"
      ]
    },
    {
      "cell_type": "markdown",
      "metadata": {
        "id": "2J41UspueB9f"
      },
      "source": [
        "# Exercícios LC | While\n",
        "\n",
        "## Curso Data Science Let's Code"
      ]
    },
    {
      "cell_type": "markdown",
      "metadata": {
        "id": "xDPUNakBeK8V"
      },
      "source": [
        "# Questão 1:\n",
        "Faça um programa que peça ao usuário um número e imprima todos os números de um até o número dado.\n",
        "\n",
        "Exemplo:\n",
        "\n",
        "digite: 5\n",
        "\n",
        "imprime: 1 2 3 4 5"
      ]
    },
    {
      "cell_type": "code",
      "metadata": {
        "id": "tOn6XRLIeS0G"
      },
      "source": [
        "n = int(input('Você quer que o computador conte até que número? ')) \n",
        "c = 1\n",
        "\n",
        "while c <= n: \n",
        "  print(c) \n",
        "  c += 1"
      ],
      "execution_count": null,
      "outputs": []
    },
    {
      "cell_type": "markdown",
      "metadata": {
        "id": "kZvLEcF5eaSS"
      },
      "source": [
        "# Questão 2:\n",
        "Peça ao usuário para digitar um número e imprima o fatorial de n.\n",
        "\n"
      ]
    },
    {
      "cell_type": "code",
      "metadata": {
        "id": "zAlm0hvxegV5"
      },
      "source": [
        "n = int(input('Digite o número para ver o seu fatorial: '))\n",
        "\n",
        "fat = 1 \n",
        "count = n\n",
        "\n",
        "while count > 0: \n",
        "  fat = fat * count \n",
        "  count = count - 1\n",
        "\n",
        "print(f'O fatorial de {n} é {fat}')"
      ],
      "execution_count": null,
      "outputs": []
    },
    {
      "cell_type": "markdown",
      "metadata": {
        "id": "jMOZv2_1elvv"
      },
      "source": [
        "# Questão 3:\n",
        "Peça ao usuário para digitar um número N e some todos os números de 1 a N utilizando o laço de repetição while.\n"
      ]
    },
    {
      "cell_type": "code",
      "metadata": {
        "id": "Z6C_oda1exK8"
      },
      "source": [
        "n = int(input('Digite um número inteiro: ')) \n",
        "i = 1 \n",
        "s = 1\n",
        "\n",
        "while i <= n: \n",
        "  if i < n: \n",
        "    print(f'{i} + ', end =\"\") \n",
        "  else: \n",
        "    print(f'{i} = ', end =\"\") \n",
        "    break \n",
        "  s = s + (i+1) \n",
        "  i += 1 \n",
        "\n",
        "print(f'{s}', end =\"\")"
      ],
      "execution_count": null,
      "outputs": []
    },
    {
      "cell_type": "markdown",
      "metadata": {
        "id": "ur5oKGjSe0OU"
      },
      "source": [
        "# Questão 4:\n",
        "Faça um programa que imprima a tabuada do 9 (de 9*1 a 9*10) usando loops.\n",
        "\n"
      ]
    },
    {
      "cell_type": "code",
      "metadata": {
        "id": "4e2k1u_3e5hi"
      },
      "source": [
        "n = int(input('Você quer saber a tabuada de qual número? ')) \n",
        "print('=-'5, f'TABUADA DE {n}', '-='5) \n",
        "\n",
        "for i in range(1, 11): \n",
        "  print(f'{n} x {i} = {n*i}')"
      ],
      "execution_count": null,
      "outputs": []
    },
    {
      "cell_type": "markdown",
      "metadata": {
        "id": "v4gOm3qZt_kS"
      },
      "source": [
        "# Questão 5:\n",
        "Faça um programa que recebe um número inteiro do usuário e imprime na tela a quantidade de divisores desse número e quais são eles."
      ]
    },
    {
      "cell_type": "code",
      "metadata": {
        "id": "wXkRoPJxuND-"
      },
      "source": [
        "n = int(input('Digite um número: ')) \n",
        "s = 0\n",
        "\n",
        "print(f'input: {n}') \n",
        "print('output: ')\n",
        "\n",
        "for i in range(1, n): \n",
        "  if n % i == 0: \n",
        "    print(f'Divisor: {i}') \n",
        "  s += 1 \n",
        "  i += 1 \n",
        "  \n",
        "print(f'Total divisores: {s}')"
      ],
      "execution_count": null,
      "outputs": []
    },
    {
      "cell_type": "markdown",
      "metadata": {
        "id": "YWfqmivduK1s"
      },
      "source": [
        "# Questão 6:\n",
        "Faça um programa, usando loops, que peça para um usuário digitar um número e que só finaliza quando o usuário digitar 0. Ao final imprima a soma de todos os números digitados."
      ]
    },
    {
      "cell_type": "code",
      "metadata": {
        "id": "TPBx8JvDuUn9"
      },
      "source": [
        "s = 0 \n",
        "\n",
        "while True: \n",
        "  n = int(input('Digite um número que você quer somar: (Digite 0 para parar) ')) \n",
        "  if n == 0: \n",
        "    break \n",
        "  else: \n",
        "    s = s + n \n",
        "\n",
        "print(f'A soma dos números dá: {s}')"
      ],
      "execution_count": null,
      "outputs": []
    },
    {
      "cell_type": "markdown",
      "metadata": {
        "id": "yODDUSquuasY"
      },
      "source": [
        "# Questão 7:\n",
        "Faça um programa que sorteia um número N e peça para o usuário adivinhar o número sorteado. A cada resposta errada, o seu programa deve imprimir um aviso dizendo que a resposta está errada e pedir novamente uma resposta ao usuário.\n",
        "\n",
        "Para a realização desse exercício, utilize alguma função da biblioteca random (e.g. randint())."
      ]
    },
    {
      "cell_type": "code",
      "metadata": {
        "id": "f-OO0-CmujAF"
      },
      "source": [
        "from random import randint \n",
        "n = randint(1, 10)\n",
        "\n",
        "print('=-'10, 'Adivinhe o número', '-='10) \n",
        "print('O computador pensou em um núemro de 1 a 10, você consegue adivinhar qual? ')\n",
        "\n",
        "resp = int(input('\\nQual número ele está pensando: '))\n",
        "\n",
        "while resp != n: \n",
        "  if resp > n: \n",
        "    resp = int(input('Muito alto! Tente de novo: ')) \n",
        "  else: \n",
        "    resp = int(input('Muito baixo! Tente de novo: '))\n",
        "\n",
        "print(f'Parabéns! O computador estava pensando no número {n} e você acertou!')"
      ],
      "execution_count": null,
      "outputs": []
    },
    {
      "cell_type": "markdown",
      "metadata": {
        "id": "Sr3EUCohunzv"
      },
      "source": [
        "# Questão 8:\n",
        "Faça um programa que peça para o usuário digitar a idade, o salário e o sexo de uma pessoa até que as entradas digitadas sejam válidas.\n",
        "\n",
        "a. Idade: entre 0 e 150;\n",
        "\n",
        "b. Salário: maior que 0;\n",
        "\n",
        "c. Sexo: M, F ou Outro."
      ]
    },
    {
      "cell_type": "code",
      "metadata": {
        "id": "t7HKV3kaus-t"
      },
      "source": [
        "idade = int(input('Digite a idade: ')) \n",
        "while idade < 0 or idade > 150: \n",
        "  idade = int(input('Idade inválida. Digite novamente: ')) \n",
        "  \n",
        "salario = int(input('Digite o salário: ')) \n",
        "while salario < 0: \n",
        "  salario = int(input('Salário Inválido. Digite novamente: ')) \n",
        "\n",
        "sexo = input('Digite o sexo: (F/M/Outro) ') \n",
        "while sexo != 'F' and sexo != 'M' and sexo != 'Outro': \n",
        "  sexo = input('Sexo inválido. Digite novamente: ') \n",
        "\n",
        "print(f' Idade: {idade}\\n Salário: R${salario} \\n Sexo: {sexo}')"
      ],
      "execution_count": null,
      "outputs": []
    },
    {
      "cell_type": "markdown",
      "metadata": {
        "id": "uWYR1zhruxB1"
      },
      "source": [
        "# Questão 9:\n",
        "Desafio! - Calcule a soma de até mil termos da série 1 + 1/2 + 1/4 + 1/8 + 1/16 + ...\n",
        "\n",
        "Dica: Use três variáveis:\n",
        "\n",
        "• um contador, que começa em zero;\n",
        "\n",
        "• uma variável para a soma de todos os termos, que também começa em zero;\n",
        "\n",
        "• uma variável para cada termo, que começa em 1 e a cada loop é dividida por 2.\n",
        "\n",
        "A repetição da soma de mil termos pode ser feita com a função while contador < 1000."
      ]
    },
    {
      "cell_type": "code",
      "metadata": {
        "id": "UCz0nAxNu-40"
      },
      "source": [
        "c = 0 \n",
        "s = 0 \n",
        "t = 1\n",
        "\n",
        "while c < 1000: \n",
        "  s = s + t \n",
        "  t = t/2 \n",
        "  c += 1\n",
        "\n",
        "print(f'A soma de todos os termos dá {s}')"
      ],
      "execution_count": null,
      "outputs": []
    },
    {
      "cell_type": "markdown",
      "metadata": {
        "id": "AO0-PBP-oUKB"
      },
      "source": [
        "# Questão 10:\n",
        "Super Desafio! - Calcule a soma de mil termos dos inversos dos fatoriais: 1/(1!) + 1/(2!) + 1/(3!) + 1/(4!) + ...\n",
        "\n",
        "Dica: Assim como no exercício anterior use três variáveis: um contador; uma variável para a soma; e uma variável para os termos. Lembre-se de que 4! = 4*3*2*1 que também é igual a 4*3!."
      ]
    },
    {
      "cell_type": "code",
      "metadata": {
        "id": "3V44DqnIoZRD"
      },
      "source": [
        "cont = 1 \n",
        "soma = 0 \n",
        "\n",
        "while cont < 1001: \n",
        "  fat = 1 \n",
        "  n = cont \n",
        "  while n > 0: \n",
        "    fat *= n \n",
        "    n -= 1 \n",
        "  soma += 1/fat \n",
        "  cont += 1 \n",
        "\n",
        "print(f'A soma dos mil termos dos inversos dos fatoriais é: {soma}')"
      ],
      "execution_count": null,
      "outputs": []
    }
  ]
}