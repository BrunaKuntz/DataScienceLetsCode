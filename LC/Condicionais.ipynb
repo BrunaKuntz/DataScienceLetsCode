{
  "nbformat": 4,
  "nbformat_minor": 0,
  "metadata": {
    "colab": {
      "name": "Untitled1.ipynb",
      "provenance": [],
      "authorship_tag": "ABX9TyMu3G5PvZI38AACW4NCHddl",
      "include_colab_link": true
    },
    "kernelspec": {
      "name": "python3",
      "display_name": "Python 3"
    },
    "language_info": {
      "name": "python"
    }
  },
  "cells": [
    {
      "cell_type": "markdown",
      "metadata": {
        "id": "view-in-github",
        "colab_type": "text"
      },
      "source": [
        "<a href=\"https://colab.research.google.com/github/BrunaKuntz/DataScienceLetsCode/blob/main/LC/Condicionais.ipynb\" target=\"_parent\"><img src=\"https://colab.research.google.com/assets/colab-badge.svg\" alt=\"Open In Colab\"/></a>"
      ]
    },
    {
      "cell_type": "markdown",
      "metadata": {
        "id": "2J41UspueB9f"
      },
      "source": [
        "# Exercícios LC | Condicionais\n",
        "\n",
        "## Curso Data Science Let's Code"
      ]
    },
    {
      "cell_type": "markdown",
      "metadata": {
        "id": "xDPUNakBeK8V"
      },
      "source": [
        "# Questão 1:\n",
        "Faça um programa que peça a idade da pessoa e imprima se ela é maior ou menor de 18 anos.\n",
        "\n"
      ]
    },
    {
      "cell_type": "code",
      "metadata": {
        "id": "tOn6XRLIeS0G"
      },
      "source": [
        "from datetime import datetime \n",
        "date = datetime.today() \n",
        "ano = date.year\n",
        "\n",
        "anonasc = int(input('Em que ano você nasceu? ')) \n",
        "idade = ano - anonasc\n",
        "\n",
        "if idade >= 18: \n",
        "  print('Você é maior de idade.') \n",
        "else: \n",
        "  print('Você é menor de idade.')"
      ],
      "execution_count": null,
      "outputs": []
    },
    {
      "cell_type": "markdown",
      "metadata": {
        "id": "kZvLEcF5eaSS"
      },
      "source": [
        "# Questão 2:\n",
        "Faça um programa que peça um número e mostre se ele é positivo ou negativo.\n",
        "\n"
      ]
    },
    {
      "cell_type": "code",
      "metadata": {
        "id": "zAlm0hvxegV5"
      },
      "source": [
        "n = float(input('Digite um número: ')) \n",
        "if n >= 0: \n",
        "  print(f'O número {n} é positivo.') \n",
        "else: \n",
        "  print(f'O número {n} é negativo.')"
      ],
      "execution_count": null,
      "outputs": []
    },
    {
      "cell_type": "markdown",
      "metadata": {
        "id": "jMOZv2_1elvv"
      },
      "source": [
        "# Questão 3:\n",
        "Faça um programa que peça dois números e mostre o maior deles.\n",
        "\n",
        "\n"
      ]
    },
    {
      "cell_type": "code",
      "metadata": {
        "id": "Z6C_oda1exK8"
      },
      "source": [
        "n1 = float(input('Digite o primeiro número: ')) \n",
        "n2 = float(input('Digite o segundo número: ')) \n",
        "if n1 > n2: \n",
        "  print(f'{n1} é o maior número.') \n",
        "elif n1 < n2: \n",
        "  print(f'{n2} é o maior número.') \n",
        "else: \n",
        "  print(f'{n1} e {n2} são iguais.')"
      ],
      "execution_count": null,
      "outputs": []
    },
    {
      "cell_type": "markdown",
      "metadata": {
        "id": "ur5oKGjSe0OU"
      },
      "source": [
        "# Questão 4:\n",
        "Escreva um programa que peça a nota de 3 provas de um aluno e mostre se ele passou ou não de ano.\n",
        "\n",
        "Obs.: O aluno irá passar de ano se a média das suas notas for maior ou igual a 6 (média é a soma das notas dividido pelo número de provas)."
      ]
    },
    {
      "cell_type": "code",
      "metadata": {
        "id": "4e2k1u_3e5hi"
      },
      "source": [
        "n1 = float(input('Qual foi a nota da primeira prova? ')) \n",
        "n2 = float(input('Qual foi a nota da segunda prova? ')) \n",
        "n3 = float(input('Qual foi a nota da terceira prova? '))\n",
        "\n",
        "media = (n1 + n2 + n3)/3 \n",
        "print(f'Sua média foi: {media:.1f}')\n",
        "\n",
        "if media >= 6: \n",
        "  print(f'Status: APROVADO') \n",
        "else: \n",
        "  print(f'Status: REPROVADO')"
      ],
      "execution_count": null,
      "outputs": []
    },
    {
      "cell_type": "markdown",
      "metadata": {
        "id": "v4gOm3qZt_kS"
      },
      "source": [
        "# Questão 5:\n",
        "Faça um programa que mostre uma questão de múltipla escolha com 5 opções (letras a, b, c, d, e). Sabendo a resposta certa, o programa deve receber a opção do usuário e informar a letra que o usuário marcou e se a resposta está certa ou errada."
      ]
    },
    {
      "cell_type": "code",
      "metadata": {
        "id": "wXkRoPJxuND-"
      },
      "source": [
        "print('O processo que emprega técnicas estatísticas, matemáticas e de inteligência artificial, para extrair e identificar informações úteis, conhecimentos e padrões na forma de regra de negócio, a partir de vastos conjuntos de dados, denomina-se: ') \n",
        "print(' A) DW (data warehouse)\\n', 'B) DM (data mart)\\n', 'C) K-Means\\n', 'D) ETL (Extract, Transform and Load)\\n', 'E) Data Mining')\n",
        "\n",
        "resp = input('Resposta: ') \n",
        "respostaCerta = 'E'\n",
        "\n",
        "if resp.upper() == respostaCerta: \n",
        "  print('A sua resposta está correta!') \n",
        "else: \n",
        "  print('Sua resposta está incorreta.')"
      ],
      "execution_count": null,
      "outputs": []
    },
    {
      "cell_type": "markdown",
      "metadata": {
        "id": "YWfqmivduK1s"
      },
      "source": [
        "# Questão 6:\n",
        "Vamos fazer um programa para verificar quem é o assassino de um crime. Para descobrir o assassino, a polícia faz um pequeno questionário com 5 perguntas onde a resposta só pode ser sim ou não:\n",
        "\n",
        "a. Mora perto da vítima?\n",
        "\n",
        "b. Já trabalhou com a vítima?\n",
        "\n",
        "c. Telefonou para a vítima?\n",
        "\n",
        "d. Esteve no local do crime?\n",
        "\n",
        "e. Devia para a vítima?\n",
        "\n",
        "Cada resposta sim dá um ponto para o suspeito. A polícia considera que os suspeitos com 5 pontos são os assassinos, com 4 a 3 pontos são cúmplices e 2 pontos são apenas suspeitos, necessitando outras investigações. Valores abaixo de 1 são liberados."
      ]
    },
    {
      "cell_type": "code",
      "metadata": {
        "id": "TPBx8JvDuUn9"
      },
      "source": [
        "p1 = int(input('Telefonou para a vítima? (sim=1 / não=0) ')) \n",
        "p2 = int(input('Esteve no local do crime? (sim=1 / não=0) ')) \n",
        "p3 = int(input('Mora perto da vítima? (sim=1 / não=0) ')) \n",
        "p4 = int(input('Devia para a vítima? (sim=1 / não=0) ')) \n",
        "p5 = int(input('Já trabalhou com a a vítima? (sim=1 / não=0) ')) \n",
        "\n",
        "s = p1 + p2 + p3 + p4 + p5 \n",
        "\n",
        "if s <= 1: \n",
        "  print('Inocente.') \n",
        "elif s == 2: \n",
        "  print('Suspeito.') \n",
        "elif 3 >= s >= 4: \n",
        "  print('Cúmplice.') \n",
        "else: \n",
        "  print('Assassino.')"
      ],
      "execution_count": null,
      "outputs": []
    },
    {
      "cell_type": "markdown",
      "metadata": {
        "id": "yODDUSquuasY"
      },
      "source": [
        "# Questão 7:\n",
        "Faça um programa em que o usuário tem que adivinhar o número escolhido pelo computador. O computador deve sortear um número inteiro de 1 a 5 e pedir para o usuário tentar descobrir qual o número sorteado. Após o usuário digitar sua resposta, o programa deve dizer se ele acertou ou não. Dica: para sortear um número, você precisará utilizar a biblioteca random."
      ]
    },
    {
      "cell_type": "code",
      "metadata": {
        "id": "f-OO0-CmujAF"
      },
      "source": [
        "from random import randint\n",
        "\n",
        "nsorteado = randint(1, 5)\n",
        "\n",
        "palpite = int(input('O computador está pensando em um número de 1 a 5. Tente adivinhar qual é: '))\n",
        "\n",
        "print(f'O número escolhido pelo computador foi {nsorteado}')\n",
        "\n",
        "if palpite == nsorteado: \n",
        "  print('Você acertou!') \n",
        "else: \n",
        "  print('Você errou :(')"
      ],
      "execution_count": null,
      "outputs": []
    },
    {
      "cell_type": "markdown",
      "metadata": {
        "id": "Sr3EUCohunzv"
      },
      "source": [
        "# Questão 8:\n",
        "Vamos fazer um radar eletrônico de velocidade. Faça um programa que leia a velocidade de um carro, e diga se ele está acima ou não da velocidade permitida de 50 km/h. Se o carro estiver acima da velocidade, o programa deve imprimir que o motorista ultrapassou a velocidade permitida e recebeu uma multa num determinado valor. Para calcular o valor da multa, considere que para cada quilômetro acima da velocidade permitida, o motorista deve pagar 10 reais."
      ]
    },
    {
      "cell_type": "code",
      "metadata": {
        "id": "t7HKV3kaus-t"
      },
      "source": [
        "v = int(input('Qual é a sua velocidade em km/h? '))\n",
        "\n",
        "if v <= 50: \n",
        "  print('Você está dentro da velocidade permitida.') \n",
        "else: \n",
        "  multa = (v - 50) * 10 \n",
        "  print(f'Você está acima da velocidade permitida. Sua multa é de R${multa}')"
      ],
      "execution_count": null,
      "outputs": []
    },
    {
      "cell_type": "markdown",
      "metadata": {
        "id": "uWYR1zhruxB1"
      },
      "source": [
        "# Questão 9:\n",
        "Nota\n",
        "Com a recomendação que as pessoas fiquem em casa e evitem aglomerações como medida pra frear a contaminação pelo coronavírus, como saber quando devemos procurar um hospital? Faça um programa que pergunte os sintomas que a pessoa apresenta e responda se ela deve ou não procurar um hospital.\n",
        "\n",
        "Sintomas: a. Você tem febre persistente? b. Você tem dificuldade para respirar?\n",
        "\n",
        "A resposta do programa deve seguir a seguinte tabela:\n",
        "\n",
        "A\tB\tResultado\n",
        "Sim\tNão\tFique em casa\n",
        "Não\tSim\tFique em casa\n",
        "Não\tNão\tFique em casa\n",
        "Sim\tSim\tProcure um hospital"
      ]
    },
    {
      "cell_type": "code",
      "metadata": {
        "id": "UCz0nAxNu-40"
      },
      "source": [
        "print('=-'10, 'CHECK UP COVID', '-='10) \n",
        "p1 = input('Você tem febre persistente? (S/N) ') \n",
        "p2 = input('Você tem dificuldade para respirar? (S/N) ')\n",
        "\n",
        "if p1[0].upper() and p2[0].upper() == \"S\": \n",
        "  print('RECOMENDAÇÃO: Procure um hospital') \n",
        "else: \n",
        "  print('RECOMENDAÇÃO: Fique em casa')"
      ],
      "execution_count": null,
      "outputs": []
    }
  ]
}