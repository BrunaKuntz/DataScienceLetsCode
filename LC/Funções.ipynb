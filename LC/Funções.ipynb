{
  "nbformat": 4,
  "nbformat_minor": 0,
  "metadata": {
    "colab": {
      "name": "Untitled1.ipynb",
      "provenance": [],
      "authorship_tag": "ABX9TyMU7M05/5YciqCFZFST4QLv",
      "include_colab_link": true
    },
    "kernelspec": {
      "name": "python3",
      "display_name": "Python 3"
    },
    "language_info": {
      "name": "python"
    }
  },
  "cells": [
    {
      "cell_type": "markdown",
      "metadata": {
        "id": "view-in-github",
        "colab_type": "text"
      },
      "source": [
        "<a href=\"https://colab.research.google.com/github/BrunaKuntz/DataScienceLetsCode/blob/main/LC/Fun%C3%A7%C3%B5es.ipynb\" target=\"_parent\"><img src=\"https://colab.research.google.com/assets/colab-badge.svg\" alt=\"Open In Colab\"/></a>"
      ]
    },
    {
      "cell_type": "markdown",
      "metadata": {
        "id": "2J41UspueB9f"
      },
      "source": [
        "# Exercícios LC | Funções\n",
        "## Curso Data Science Let's Code"
      ]
    },
    {
      "cell_type": "markdown",
      "metadata": {
        "id": "xDPUNakBeK8V"
      },
      "source": [
        "# Questão 1:\n",
        "Faça uma função que recebe um número e imprime seu dobro.\n",
        "\n",
        "\n"
      ]
    },
    {
      "cell_type": "code",
      "metadata": {
        "id": "tOn6XRLIeS0G"
      },
      "source": [
        "def dobro(num):\n",
        "  print(num*2)\n",
        "\n",
        "dobro(9)"
      ],
      "execution_count": null,
      "outputs": []
    },
    {
      "cell_type": "markdown",
      "metadata": {
        "id": "zoEXf0DPuuW5"
      },
      "source": [
        "# Questão 2:\n",
        "Faça uma função que recebe o valor do raio de um círculo e retorna o valor do comprimento de sua circunferência: C = 2*pi*r."
      ]
    },
    {
      "cell_type": "code",
      "metadata": {
        "id": "ydZ8S-7-u_P5"
      },
      "source": [
        "def raio(r):\n",
        "  print(f'O comprimento da circunferência é {2 * 3.14 * r}')\n",
        "\n",
        "raio(3)"
      ],
      "execution_count": null,
      "outputs": []
    },
    {
      "cell_type": "markdown",
      "metadata": {
        "id": "rZlGc37Uvi-W"
      },
      "source": [
        "# Questão 3:\n",
        "Faça uma função para cada operação matemática básica (soma, subtração, multiplicação e divisão). As funções devem receber dois números e retornar o resultado da operação."
      ]
    },
    {
      "cell_type": "code",
      "metadata": {
        "id": "xL6KRwIjvlZ4"
      },
      "source": [
        "# função soma\n",
        "def soma(n1, n2):\n",
        "  print(f'{n1} + {n2} = {n1 + n2}')\n",
        "\n",
        "#função subtração\n",
        "def subtracao(n1, n2):\n",
        "  print(f'{n1} - {n2} = {n1 - n2}')\n",
        "\n",
        "#função multiplicação\n",
        "def multiplicacao(n1, n2):\n",
        "  print(f'{n1} x {n2} = {n1 * n2}')\n",
        "\n",
        "#função divisão\n",
        "def divisao(n1, n2):\n",
        "  print(f'{n1} % {n2} = {n1 / n2}')\n",
        "\n",
        "soma(18, 2)"
      ],
      "execution_count": null,
      "outputs": []
    },
    {
      "cell_type": "markdown",
      "metadata": {
        "id": "GHv233qvfZ66"
      },
      "source": [
        "# Questão 4:\n",
        "Faça uma função que recebe um nome e imprime “olá, [nome]”.\n",
        "\n"
      ]
    },
    {
      "cell_type": "code",
      "metadata": {
        "id": "eVUrgMT6foTe"
      },
      "source": [
        "def ola(nome):\n",
        "  print(f'Olá, {nome}!')\n",
        "\n",
        "ola('Bruna')"
      ],
      "execution_count": null,
      "outputs": []
    },
    {
      "cell_type": "markdown",
      "metadata": {
        "id": "myXCdg03iH6V"
      },
      "source": [
        "# Questão 5:\n",
        "Faça uma função que recebe um nome e um horário e imprime “Bom dia, [nome]”, caso seja antes de 12h, “Boa Tarde, [nome]”, caso seja entre 12h e 18h e “Boa noite, [nome]” se for após às 18h.\n"
      ]
    },
    {
      "cell_type": "code",
      "metadata": {
        "colab": {
          "base_uri": "https://localhost:8080/"
        },
        "id": "KSSQjs3-iVYE",
        "outputId": "aa165fa0-2cb9-4126-efbd-5a111b0bf60a"
      },
      "source": [
        "def cumprimento(nome):\n",
        "  import datetime\n",
        "  horario = (datetime.datetime.now().hour) - 3 # fuso horário\n",
        "\n",
        "  if 6 <= horario <= 12:\n",
        "    print(f'Bom dia, {nome}!')\n",
        "  elif 12 < horario <= 18:\n",
        "    print(f'Boa tarde, {nome}!')\n",
        "  else:\n",
        "    print(f'Boa noite, {nome}!')\n",
        "\n",
        "cumprimento('Bruna')"
      ],
      "execution_count": null,
      "outputs": [
        {
          "output_type": "stream",
          "name": "stdout",
          "text": [
            "Boa tarde, Bruna\n"
          ]
        }
      ]
    },
    {
      "cell_type": "markdown",
      "metadata": {
        "id": "-_oaEdDVrL3r"
      },
      "source": [
        "# Questão 6:\n",
        "Faça uma função que recebe um número e retorna True se ele é par ou False, se ele é ímpar.\n",
        "\n"
      ]
    },
    {
      "cell_type": "code",
      "metadata": {
        "id": "Vtnq0v_krQHP"
      },
      "source": [
        "def parcheck(n):\n",
        "  if n % 2 == 0:\n",
        "    print(f'{n} é par.')\n",
        "  else:\n",
        "    print(f'{n} é ímpar.')\n",
        "\n",
        "parcheck(3)"
      ],
      "execution_count": null,
      "outputs": []
    },
    {
      "cell_type": "markdown",
      "metadata": {
        "id": "cXeO_W1jrnyj"
      },
      "source": [
        "# Questão 7:\n",
        "Faça uma função que sorteia 10 números aleatórios entre 0 e 100 e retorna o maior entre eles.\n",
        "\n"
      ]
    },
    {
      "cell_type": "code",
      "metadata": {
        "id": "ey9qRQNQrrMk"
      },
      "source": [
        "def sorteio():\n",
        "  from random import randint\n",
        "  lista = []\n",
        "  for i in range(10):\n",
        "    lista.append(randint(0, 100))\n",
        "  \n",
        "  print(lista)\n",
        "  max = lista[0]\n",
        "\n",
        "  for i in lista:\n",
        "    if i > max:\n",
        "      max = i\n",
        "\n",
        "  print(f'O maior número é {max}')\n",
        "\n",
        "sorteio()"
      ],
      "execution_count": null,
      "outputs": []
    },
    {
      "cell_type": "markdown",
      "metadata": {
        "id": "z9p3rIQruPOf"
      },
      "source": [
        "# Questão 8:\n",
        "Faça uma função que recebe um número n de entrada, sorteia n números aleatórios entre 0 e 100 e retorna a média deles."
      ]
    },
    {
      "cell_type": "code",
      "metadata": {
        "id": "aBBnP13_uTSc"
      },
      "source": [
        "def sorteio(n):\n",
        "  from random import randint\n",
        "  lista = []\n",
        "  for i in range(n):\n",
        "    lista.append(randint(0, 100))\n",
        "\n",
        "  print(lista)\n",
        "  m = sum(lista)/n\n",
        "  print(f'A média da lista é {m:.1f}')\n",
        "\n",
        "sorteio(19)"
      ],
      "execution_count": null,
      "outputs": []
    },
    {
      "cell_type": "markdown",
      "metadata": {
        "id": "AvYjxrvXwgO3"
      },
      "source": [
        "# Questão 9:\n",
        "Faça uma função que recebe uma lista de palavras e retorna uma lista contendo as mesmas palavras da lista anterior, porém escritas em caixa alta."
      ]
    },
    {
      "cell_type": "code",
      "metadata": {
        "id": "etWzL24fwifL"
      },
      "source": [
        "def caixaalta(lista):\n",
        "  listanova = []\n",
        "  for i in lista:\n",
        "    listanova.append(i.upper())\n",
        "\n",
        "  print(listanova)\n",
        "\n",
        "caixaalta(['código', 'python', \"Let's Code\", 'Exercício'])"
      ],
      "execution_count": null,
      "outputs": []
    },
    {
      "cell_type": "markdown",
      "metadata": {
        "id": "8mw8ofZ78y0j"
      },
      "source": [
        "# Questão 10:\n",
        "Faça uma função que recebe duas listas e retorna a soma item a item dessas listas.\n",
        "\n",
        "Exemplo: Se a função receber as listas [1,4,3] e [3,5,1], então a função deve retornar [1+3, 4+5, 3+1] = [4, 9, 4]."
      ]
    },
    {
      "cell_type": "code",
      "metadata": {
        "id": "ZtnlHRdI80mh"
      },
      "source": [
        "def somalistas(lista1, lista2):\n",
        "  listasoma = []\n",
        "\n",
        "  for i in range(len(lista1)):\n",
        "    s = lista1[i] + lista2[i]\n",
        "    listasoma.append(s)\n",
        "\n",
        "  print(listasoma)\n",
        "\n",
        "somalistas([1, 4, 3], [3, 5, 1])"
      ],
      "execution_count": null,
      "outputs": []
    },
    {
      "cell_type": "markdown",
      "metadata": {
        "id": "6BnwNEiv-Ixd"
      },
      "source": [
        "# Questão 11:\n",
        "Faça uma função que receba duas listas e retorne o produto item a item dessas listas.\n",
        "\n",
        "Exemplo: Se a função receber as listas [1,4,3] e [3,5,1], então a função deve retornar [1x3, 4x5, 3x1] = [3, 20, 3]."
      ]
    },
    {
      "cell_type": "code",
      "metadata": {
        "id": "OuxP2bE7-Osb"
      },
      "source": [
        "def produtolistas(lista1, lista2):\n",
        "  listaproduto = []\n",
        "\n",
        "  for i in range(len(lista1)):\n",
        "    m = lista1[i] * lista2[i]\n",
        "    listaproduto.append(m)\n",
        "\n",
        "  print(listaproduto)\n",
        "\n",
        "produtolistas([1, 4, 3], [3, 5, 1])"
      ],
      "execution_count": null,
      "outputs": []
    },
    {
      "cell_type": "markdown",
      "metadata": {
        "id": "HxNAdUBb-oHK"
      },
      "source": [
        "# Questão 12:\n",
        "Faça uma função que recebe um número x e uma lista numérica e retorna uma lista cujos elementos são os itens da lista de entrada multiplicado por x.\n",
        "\n",
        "Exemplo:\n",
        "\n",
        "Se a função receber o número 5 e a lista [3,5,1], então a função deve retornar [5x3, 5x5, 5x1] = [15, 25, 5]."
      ]
    },
    {
      "cell_type": "code",
      "metadata": {
        "id": "MK_kGhRYAI45"
      },
      "source": [
        "def produtolista(n, lista):\n",
        "  listaproduto = []\n",
        "\n",
        "  for i in range(len(lista)):\n",
        "    m = n * lista[i]\n",
        "    listaproduto.append(m)\n",
        "\n",
        "  print(listaproduto)\n",
        "\n",
        "produtolista(5, [3, 5, 1])"
      ],
      "execution_count": null,
      "outputs": []
    },
    {
      "cell_type": "markdown",
      "metadata": {
        "id": "PAtmhXrnAzvr"
      },
      "source": [
        "# Questão 13:\n",
        "Faça uma função que recebe uma lista de números e retorna a soma dos elementos dessa lista.\n",
        "\n"
      ]
    },
    {
      "cell_type": "code",
      "metadata": {
        "id": "1nnvRPDrXdVL"
      },
      "source": [
        "def somalista(lista):\n",
        "  print(f'A soma dos números da lista {lista} é: {sum(lista)}')\n",
        "\n",
        "somalista([1, 4, 7, 8, 4])"
      ],
      "execution_count": null,
      "outputs": []
    },
    {
      "cell_type": "markdown",
      "metadata": {
        "id": "7bsgJAROX8TF"
      },
      "source": [
        "# Questão 14:\n",
        "Faça uma função que recebe uma lista de números e retorna a média aritmética dos elementos dessa lista."
      ]
    },
    {
      "cell_type": "code",
      "metadata": {
        "id": "3vK_FDLwYCaP"
      },
      "source": [
        "def medialista(lista):\n",
        "  print(f'A média dos números da lista {lista} é {sum(lista)/len(lista)}')\n",
        "\n",
        "medialista([1, 4, 7, 8, 9, 4])"
      ],
      "execution_count": null,
      "outputs": []
    },
    {
      "cell_type": "markdown",
      "metadata": {
        "id": "SJkRRN8mZRFH"
      },
      "source": [
        "# Questão 15:\n",
        "Desafio 1 - Faça uma função que receba um número e calcule seu fatorial."
      ]
    },
    {
      "cell_type": "code",
      "metadata": {
        "id": "Gg_H20L8ZV7Z"
      },
      "source": [
        "def fatorial(n):\n",
        "  fat = 1\n",
        "  count = n\n",
        "  while count > 0:\n",
        "    fat = fat * count\n",
        "    count = count - 1\n",
        "\n",
        "  print(f'O fatorial de {n} é {fat}.')\n",
        "\n",
        "fatorial(4)"
      ],
      "execution_count": null,
      "outputs": []
    },
    {
      "cell_type": "markdown",
      "metadata": {
        "id": "WpvB_1JmaGX3"
      },
      "source": [
        "# Questão 16:\n",
        "Desafio 3 - A sequência Fibonacci é a sequência cujos dois primeiros termos são 1 e os demais são obtidos através da soma de seus dois antecessores, isso é:\n",
        "\n",
        "a. Fibonacci(1) = 1 e Fibonacci(2) = 2;\n",
        "\n",
        "b. dado qualquer número n >= 3, Fibonacci(n) = Fibonacci(n-1) + Fibonacci(n-2)\n",
        "\n",
        "Assim, os 10 primeiros termos da sequência Fibonacci são:\n",
        "1, 1, 2, 3, 5, 8, 13, 21, 34, 55…\n",
        "\n",
        "Faça uma função que receba um número n e calcule o termo de número n da sequência Fibonacci.\n"
      ]
    },
    {
      "cell_type": "code",
      "metadata": {
        "colab": {
          "base_uri": "https://localhost:8080/"
        },
        "id": "0I-LApIhahvT",
        "outputId": "512f1e5d-488f-49bb-937e-feedb8eef532"
      },
      "source": [
        "def fibonacci(n):\n",
        "  counter = 0\n",
        "  print(\"0, 1, \", end='')\n",
        "  n1 = 0\n",
        "  n2 = 1\n",
        "  n3 = 0\n",
        "  while counter < (n-2):\n",
        "    n3 = n1 + n2\n",
        "    if counter == (n - 3):\n",
        "      print(n3, end='')\n",
        "    else:\n",
        "      print(n3, \", \", end='')\n",
        "    n1 = n2\n",
        "    n2 = n3\n",
        "    counter += 1\n",
        "\n",
        "fibonacci(10)"
      ],
      "execution_count": null,
      "outputs": [
        {
          "output_type": "stream",
          "name": "stdout",
          "text": [
            "0, 1, 1 , 2 , 3 , 5 , 8 , 13 , 21 , 34"
          ]
        }
      ]
    },
    {
      "cell_type": "markdown",
      "metadata": {
        "id": "wP9mIlK34C-l"
      },
      "source": [
        "# Questão 17:\n",
        "Super Desafio! - Repita o exercício anterior usando recursão, ou seja, uma função que chame ela mesma, lembrando que 3! = 3*2!, que 2! = 2*1!, que 1! = 1*0! e que 0! = 1."
      ]
    },
    {
      "cell_type": "code",
      "metadata": {
        "id": "XXOVBkyh_6vR"
      },
      "source": [
        "def fatorial(n):\n",
        "  if n ==1 or n == 0:\n",
        "    return 1\n",
        "  return n * fatorial(n -1)\n",
        "\n",
        "fatorial(0)"
      ],
      "execution_count": null,
      "outputs": []
    },
    {
      "cell_type": "markdown",
      "metadata": {
        "id": "QUdW4iJ34Kn7"
      },
      "source": [
        "# Questão 18:\n",
        "Desafio 2 - Faça uma função que recebe duas entradas: um input dado pelo usuário e um string que informa o tipo de dado (\"idade\", \"salário\" ou \"sexo\"), e verifica se os dados digitados foram válidos, usando os seguintes critérios:\n",
        "\n",
        "a. Idade: entre 0 e 150;\n",
        "\n",
        "b. Salário: maior que 0;\n",
        "\n",
        "c. Sexo: M, F ou Outro."
      ]
    },
    {
      "cell_type": "code",
      "metadata": {
        "id": "Zugc8dauKdiG"
      },
      "source": [
        "def dados(idade, salario, sexo):\n",
        "  if 0 <= idade and idade <= 150:\n",
        "    print(f'Idade: {idade}')\n",
        "  else: \n",
        "    print('Idade Inválida. Coloque um novo valor.')\n",
        "  if salario >= 0:\n",
        "    print(f'Salário: R${salario}')\n",
        "  else:\n",
        "    print('Salário Inválido. Coloque um novo valor.')\n",
        "  if sexo[0].upper() == 'M' or sexo[0].upper() == 'F' or sexo.capitalize() == 'Outro':\n",
        "    print(f'Sexo: {sexo}')\n",
        "  else:\n",
        "    print('Sexo inválido. Coloque um novo valor.')\n",
        "\n",
        "dados(150, 4, 'outro')"
      ],
      "execution_count": null,
      "outputs": []
    },
    {
      "cell_type": "markdown",
      "metadata": {
        "id": "zn9eu2kZ4O1N"
      },
      "source": [
        "# Questão 19:\n",
        "Super Desafio! - Refaça o desafio 3 usando recursão.\n",
        "\n"
      ]
    },
    {
      "cell_type": "code",
      "metadata": {
        "id": "wsTeKf_0bnyD"
      },
      "source": [
        "def fibonacci(n):\n",
        "  if n == 1:\n",
        "    return 1\n",
        "  else:\n",
        "    if n == 2:\n",
        "      return 1\n",
        "    else:\n",
        "      return fibonacci(n - 1) + fibonacci(n -2)\n",
        "      \n",
        "fibonacci(10)"
      ],
      "execution_count": null,
      "outputs": []
    },
    {
      "cell_type": "markdown",
      "metadata": {
        "id": "dSAUu4rK4UaR"
      },
      "source": [
        "# Questão 20:\n",
        "Super Desafio! - Faça um jogo de BlackJack usando funções: o BlackJack, ou Vinte e Um, é um jogo em que os jogadores podem comprar cartas livremente, enquanto tiverem menos de 21 pontos. No nosso jogo, o Ás vale um ponto; as cartas de 2 a 10 valem o número de pontos que elas representam; e Valete, Dama e Rei valem 10 pontos cada. Ganha o jogador que tiver o maior número de pontos, desde que este seja menor ou igual a 21. Nosso jogo deve ter as seguintes funções:\n",
        "\n",
        "a. Função principal: a função que vamos chamar para iniciar o jogo. Essa função não irá receber nem retornar nenhuma variável. Ela deve perguntar o número de jogadores participantes e o nome de cada um. Em seguida ela chama as outras funções do jogo.\n",
        "\n",
        "b. Função para criar o baralho: essa função deve criar um baralho (uma lista) com as cartas do baralho.\n",
        "\n",
        "c. Função para a jogada: essa função deve receber o nome do jogador que irá realizar a jogada e, caso ele ainda esteja ativo (tenha menos de 21 pontos e ainda não tenha desistido de comprar cartas) deve perguntar se ele quer comprar uma carta. Se ele responder que sim, a função deve chamar a próxima função para sortear uma carta e somar o valor retornado na pontuação do jogador; se ele responder que não, a função deve desativar o jogador para que ele não possa mais comprar cartas; Essa função só deve ser chamada enquanto houver jogadores ativos.\n",
        "\n",
        "d. Função para o sorteio: essa função retira uma carta aleatória do baralho e retorna o número de pontos que essa carta vale.\n",
        "\n",
        "e. Função verificação: verifica e indica qual/quais jogador/jogadores tem o maior número de pontos, que seja menor ou igual a 21."
      ]
    },
    {
      "cell_type": "code",
      "metadata": {
        "id": "3gaKoFFRkqBa"
      },
      "source": [
        "from random import randint\n",
        "from google.colab import output\n",
        "from time import sleep\n",
        "\n",
        "\n",
        "def verificacao(jogadores):\n",
        "  print('\\n===========RESULTADO FINAL===========')\n",
        "  n = 0\n",
        "  maior = 0\n",
        "  jogadoresAtivos = []\n",
        "  for i in range(len(jogadores)):\n",
        "    if jogadores[i]['pontuacao'] <= 21:\n",
        "      jogadoresAtivos.append(jogadores[i])\n",
        "  print(f'Os jogadores que não ultrapassaram 21 pontos foram:')\n",
        "  for i in range(len(jogadoresAtivos)):\n",
        "    print(f'{jogadoresAtivos[i][\"nome\"]}: {jogadoresAtivos[i][\"pontuacao\"]}')\n",
        "    if jogadoresAtivos[i]['pontuacao'] > maior:\n",
        "      maior = jogadoresAtivos[i]['pontuacao']\n",
        "      n = i\n",
        "  print(f\"O ganhador foi o jogador {jogadoresAtivos[n]['nome']} com {jogadoresAtivos[n]['pontuacao']} pontos.\")\n",
        "\n",
        "\n",
        "def sorteio(jogador, cartasBaralho): #d\n",
        "  n = randint(0, len(cartasBaralho))\n",
        "  if cartasBaralho[n] == 'Ás':\n",
        "    jogador['pontuacao'] += 1\n",
        "    print(f'Você tirou a carta {cartasBaralho[n]} valendo 1 ponto.')\n",
        "  elif cartasBaralho[n] in 'VDR':\n",
        "    jogador['pontuacao'] += 10\n",
        "    print(f'Você tirou a carta {cartasBaralho[n]} valendo 10 pontos.')\n",
        "  else:\n",
        "    jogador['pontuacao'] += int(cartasBaralho[n])\n",
        "    print(f'Você tirou a carta {cartasBaralho[n]} valendo {int(cartasBaralho[n])} pontos.')\n",
        "  cartasBaralho.pop(n)\n",
        "  print(f'Seu total de pontos é de {jogador[\"pontuacao\"]}.')\n",
        "  return jogador, cartasBaralho\n",
        "  \n",
        "\n",
        "def jogada(jogador): #c\n",
        "  if jogador['situacao']: \n",
        "    print(f'\\n======= VEZ DE {jogador[\"nome\"]} ======='.upper())\n",
        "    comprarCarta = input(f'Você está com {jogador[\"pontuacao\"]} pontos. Quer comprar uma carta? (S/N)').strip().upper()\n",
        "    if comprarCarta == \"S\":\n",
        "      sorteio(jogador, baralho())\n",
        "      if jogador['pontuacao'] > 21:\n",
        "        jogador['situacao'] = False\n",
        "        \n",
        "        print('Você ultrapassou de 21. Você perdeu!')\n",
        "    elif comprarCarta == \"N\" :\n",
        "      jogador['situacao'] = False\n",
        "      print(f'Você encerrou as suas jogadas com {jogador[\"pontuacao\"]} pontos. Vamos esperar o resultado final!')\n",
        "    return jogador\n",
        "\n",
        "def baralho(): #b\n",
        "  cartasBaralho = ['Ás', '2', '3', '4', '5', '6', '7', '8', '9', '10', 'V', 'D', 'R']*4\n",
        "  return(cartasBaralho)\n",
        "\n",
        "def inicio(): # a\n",
        "  n = int(input('Números de jogadores: '))\n",
        "  jogadores = []\n",
        "  for i in range(1, n+1):\n",
        "      jogador = {\n",
        "        \"nome\": input(f'Nome do jogador {i}: ').strip().capitalize(),\n",
        "        \"pontuacao\": 0,\n",
        "        \"situacao\": True\n",
        "    }\n",
        "      jogadores.append(jogador)\n",
        "\n",
        "  rodada = 0\n",
        "\n",
        "  while True:\n",
        "    rodada += 1\n",
        "    jogadoresAtivos = []\n",
        "\n",
        "    # verificando se ainda dá para jogar\n",
        "    for i in jogadores:\n",
        "      if i['situacao']:\n",
        "        jogadoresAtivos.append(i)\n",
        "    if len(jogadoresAtivos) == 0:\n",
        "      break\n",
        "\n",
        "    print(f'\\n================= RODADA {rodada} =================')\n",
        "    for i in jogadoresAtivos:\n",
        "      jogada(i)\n",
        "    \n",
        "    sleep(1)\n",
        "    output.clear()\n",
        "\n",
        "\n",
        "  verificacao(jogadores)\n",
        "\n",
        "inicio()\n",
        "\n",
        "    "
      ],
      "execution_count": null,
      "outputs": []
    },
    {
      "cell_type": "markdown",
      "metadata": {
        "id": "hOcM89mg4bOs"
      },
      "source": [
        "# Questão 21:\n",
        "Super desafio! Faça um sistema de cadastro de clientes. Modele cada cliente como uma lista de três elementos: nome, CPF e e-mail.\n",
        "\n",
        "a. Faça uma função que peça o nome, o CPF e o e-mail da pessoa e retorne uma lista contendo esses elementos nessa ordem.\n",
        "\n",
        "b. Os clientes cadastrados devem ser armazenados em uma lista (uma lista de listas, já que cada cliente será uma lista tal como produzido no item a).\n",
        "\n",
        "c. Faça uma função que recebe a lista do item b) e um CPF e, se esse cliente estiver na lista de cadastro, sua função deve devolver a lista de dados desse cliente; caso contrário, sua função deve imprimir “não encontrado”.\n",
        "\n",
        "d. Enquanto não for digitado 0, o seu programa deve continuar rodando. Se digitado 1, seu programa deve cadastrar um novo cliente; se digitado 2, seu programa deve pedir um CPF e procurá-lo na lista de clientes (item c); se digitado 3, seu programa deve imprimir todos os clientes cadastrados."
      ]
    },
    {
      "cell_type": "code",
      "metadata": {
        "id": "-C1RJJnq_4gj"
      },
      "source": [
        "def recebeCPF(): # a\n",
        "  print('Adicione um novo cliente: ')\n",
        "  cadastro = []\n",
        "  nome = input('Nome: ').strip().capitalize()\n",
        "  cpf = int(input('CPF (apenas números): '))\n",
        "  email = input('E-mail: ').strip()\n",
        "  cadastro.append(nome)\n",
        "  cadastro.append(cpf)\n",
        "  cadastro.append(email)\n",
        "  print('Cliente adicionado com sucesso!')\n",
        "  return cadastro\n",
        "\n",
        "def verificacaoCliente(clientes, cpf):\n",
        "  checkCliente = 0\n",
        "  for i in clientes:\n",
        "    if i[1] == cpf: \n",
        "      print(f\"Cliente localizado. {i}\")\n",
        "      checkCliente += 1\n",
        "  if checkCliente == 0: \n",
        "    print(\"Cliente não encontrado.\")\n",
        "\n",
        "# programa principal # b\n",
        "clientes = []\n",
        "\n",
        "# menu de opções\n",
        "resp = 1\n",
        "while resp != 0:\n",
        "  print('\\n=====MENU=====')\n",
        "  resp = int(input('O que deseja fazer? \\n(0) Finalizar programa \\n(1) Adicionar um novo cliente \\n(2) Procurar um cliente \\n(3) Imprimir todos os clientes \\nOpção: '))\n",
        "  if resp == 0:\n",
        "    print('Programa finalizado.')\n",
        "  elif resp == 1:\n",
        "    clientes.append(recebeCPF())\n",
        "  elif resp == 2:\n",
        "    cpf = int(input('Digite o CPF que você deseja procurar: '))\n",
        "    verificacaoCliente(clientes, cpf)\n",
        "  elif resp == 3:\n",
        "    print('Clientes cadastrados no sistema: ')\n",
        "    print(clientes)\n",
        "  else:\n",
        "    resp = int(input('Opção inválida! O que deseja fazer? \\n(0) Finalizar programa \\n(1) Adicionar um novo cliente \\n(2) Procurar um cliente \\n(3) Imprimir todos os clientes '))\n",
        "\n",
        "\n"
      ],
      "execution_count": null,
      "outputs": []
    }
  ]
}