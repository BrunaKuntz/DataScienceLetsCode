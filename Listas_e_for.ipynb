{
  "nbformat": 4,
  "nbformat_minor": 0,
  "metadata": {
    "colab": {
      "name": "Untitled1.ipynb",
      "provenance": [],
      "authorship_tag": "ABX9TyNi/7XoP0OgZ9T69gIvS1Tn",
      "include_colab_link": true
    },
    "kernelspec": {
      "name": "python3",
      "display_name": "Python 3"
    },
    "language_info": {
      "name": "python"
    }
  },
  "cells": [
    {
      "cell_type": "markdown",
      "metadata": {
        "id": "view-in-github",
        "colab_type": "text"
      },
      "source": [
        "<a href=\"https://colab.research.google.com/github/BrunaKuntz/DataScienceLetsCode/blob/main/Listas_e_for.ipynb\" target=\"_parent\"><img src=\"https://colab.research.google.com/assets/colab-badge.svg\" alt=\"Open In Colab\"/></a>"
      ]
    },
    {
      "cell_type": "markdown",
      "metadata": {
        "id": "2J41UspueB9f"
      },
      "source": [
        "# Exercícios LC | Listas e For\n",
        "\n",
        "## Curso Data Science Let's Code"
      ]
    },
    {
      "cell_type": "markdown",
      "metadata": {
        "id": "xDPUNakBeK8V"
      },
      "source": [
        "# Questão 1:\n",
        "Crie uma lista qualquer e faça um programa que imprima cada elemento da lista usando o for.\n",
        "\n"
      ]
    },
    {
      "cell_type": "code",
      "metadata": {
        "id": "tOn6XRLIeS0G"
      },
      "source": [
        "lista = ['uma', 'lista', 'qualquer']\n",
        "for i in lista:\n",
        "  print(i)"
      ],
      "execution_count": null,
      "outputs": []
    },
    {
      "cell_type": "markdown",
      "metadata": {
        "id": "kZvLEcF5eaSS"
      },
      "source": [
        "# Questão 2:\n",
        "Faça um programa que imprima todos os itens de uma lista usando while e compare com o exercício 1.\n"
      ]
    },
    {
      "cell_type": "code",
      "metadata": {
        "id": "zAlm0hvxegV5"
      },
      "source": [
        "lista = ['uma', 'lista', 'qualquer']\n",
        "i = 0\n",
        "\n",
        "while i < len(lista):\n",
        "  print(lista[i])\n",
        "  i += 1"
      ],
      "execution_count": null,
      "outputs": []
    },
    {
      "cell_type": "markdown",
      "metadata": {
        "id": "jMOZv2_1elvv"
      },
      "source": [
        "# Questão 3:\n",
        "Faça um programa que peça para o usuário digitar um número n e imprima uma lista com todos os números de 0 a n-1.\n",
        "\n",
        "Exemplo: se o usuário digitar 5, o programa deve imprimir [0, 1, 2, 3, 4]\n"
      ]
    },
    {
      "cell_type": "code",
      "metadata": {
        "id": "Z6C_oda1exK8"
      },
      "source": [
        "lista = []\n",
        "n = int(input('Digite um número: '))\n",
        "\n",
        "for i in range(0, n):\n",
        "  lista.append(i)\n",
        "\n",
        "print(lista)\n"
      ],
      "execution_count": null,
      "outputs": []
    },
    {
      "cell_type": "markdown",
      "metadata": {
        "id": "ur5oKGjSe0OU"
      },
      "source": [
        "# Questão 4:\n",
        "Faça um programa que olhe todos os itens de uma lista e diga quantos deles são pares.\n"
      ]
    },
    {
      "cell_type": "code",
      "metadata": {
        "id": "4e2k1u_3e5hi"
      },
      "source": [
        "lista = [1, 2, 3, 4, 5, 6, 7, 8, 9, 10]\n",
        "c = 0\n",
        "\n",
        "for i in lista:\n",
        "  if i%2 == 0:\n",
        "    c +=1\n",
        "\n",
        "print(f'Na lista {lista} você tem {c} números pares.')"
      ],
      "execution_count": null,
      "outputs": []
    },
    {
      "cell_type": "markdown",
      "metadata": {
        "id": "v4gOm3qZt_kS"
      },
      "source": [
        "# Questão 5:\n",
        "Faça um programa que imprima o maior número de uma lista, sem usar a função max().\n",
        "\n"
      ]
    },
    {
      "cell_type": "code",
      "metadata": {
        "id": "wXkRoPJxuND-"
      },
      "source": [
        "from random import randint\n",
        "lista= []\n",
        "\n",
        "for i in range(10):\n",
        "  n = randint(1, 100)\n",
        "  lista.append(n)\n",
        "\n",
        "max = lista[0]\n",
        "for i in lista:\n",
        "  if i >= max:\n",
        "    max = i\n",
        "\n",
        "print(f'O maior item da lista {lista} é o {max}')\n"
      ],
      "execution_count": null,
      "outputs": []
    },
    {
      "cell_type": "markdown",
      "metadata": {
        "id": "YWfqmivduK1s"
      },
      "source": [
        "# Questão 6:\n",
        "Agora usando a função max() faça um programa que imprima os três maiores números de uma lista.\n",
        "\n",
        "Dica: Use o método próprio de listas .remove()."
      ]
    },
    {
      "cell_type": "code",
      "metadata": {
        "id": "TPBx8JvDuUn9"
      },
      "source": [
        "from random import randint\n",
        "lista= []\n",
        "lista2 = []\n",
        "\n",
        "for i in range(10):\n",
        "  n = randint(1, 100)\n",
        "  lista.append(n)\n",
        "\n",
        "lista1 = lista[:]\n",
        "\n",
        "for i in range(3):\n",
        "  lista2.append(max(lista1))\n",
        "  lista1.remove(max(lista1))\n",
        "\n",
        "print(f'Os três maiores item da lista {lista} são: {lista2}')"
      ],
      "execution_count": null,
      "outputs": []
    },
    {
      "cell_type": "markdown",
      "metadata": {
        "id": "yODDUSquuasY"
      },
      "source": [
        "# Questão 7:\n",
        "Faça um programa que, dadas duas listas de mesmo tamanho, crie uma nova lista com cada elemento igual a soma dos elementos da lista 1 com os da lista 2, na mesma posição.\n",
        "\n",
        "Exemplo:\n",
        "\n",
        "Dadas lista1 = [1, 4, 5] e lista2 = [2, 2, 3], então lista3 = [1+2, 4+2, 5+3] = [3, 6, 8]"
      ]
    },
    {
      "cell_type": "code",
      "metadata": {
        "id": "f-OO0-CmujAF"
      },
      "source": [
        "lista1 = []\n",
        "lista2 = []\n",
        "listasoma = []\n",
        "for i in range(1,4):\n",
        "  n1 = int(input(f'Digite o {i}° termo da primeira lista: '))\n",
        "  lista1.append(n1)\n",
        "  n2 = int(input(f'Digite o {i}° termo da segunda lista: '))\n",
        "  lista2.append(n2)\n",
        "  s = n1 + n2\n",
        "  listasoma.append(s)\n",
        "\n",
        "print(f'{lista1} + {lista2} = {listasoma}')\n"
      ],
      "execution_count": null,
      "outputs": []
    },
    {
      "cell_type": "markdown",
      "metadata": {
        "id": "Sr3EUCohunzv"
      },
      "source": [
        "# Questão 8:\n",
        "Faça um programa que dadas duas listas de mesmo tamanho, imprima o produto escalar entre elas.\n",
        "\n",
        "OBS: produto escalar é a soma do resultado da multiplicação entre o número na posição i da lista1 pelo número na posição i da lista2, com i variando de 0 ao tamanho da lista."
      ]
    },
    {
      "cell_type": "code",
      "metadata": {
        "id": "t7HKV3kaus-t"
      },
      "source": [
        "lista1 = [2, 7, 22, 90, 37, 6]\n",
        "lista2 = [5, 33, 67, 4, 15, 7]\n",
        "p = 0\n",
        "\n",
        "for i in range(len(lista1)):\n",
        "  m = lista1[i] * lista2[i]\n",
        "  p += m\n",
        "\n",
        "print(f'O produto escalar entre as listas {lista1} e {lista2} é {p}')"
      ],
      "execution_count": null,
      "outputs": []
    },
    {
      "cell_type": "markdown",
      "metadata": {
        "id": "uWYR1zhruxB1"
      },
      "source": [
        "# Questão 9:\n",
        "Faça um programa que pede para o usuário digitar 5 números e, ao final, imprime uma lista com os 5 números digitados pelo usuário (sem converter os números para int ou float).\n",
        "\n",
        "Exemplo: Se o usuário digitar 1, 5, 2, 3, 6, o programa deve imprimir a lista ['1','5','2','3','6']"
      ]
    },
    {
      "cell_type": "code",
      "metadata": {
        "id": "UCz0nAxNu-40"
      },
      "source": [
        "lista = []\n",
        "for i in range(1, 6):\n",
        "  n = input(f'Digite o {i}° número: ')\n",
        "  lista.append(n)\n",
        "print(lista)"
      ],
      "execution_count": null,
      "outputs": []
    },
    {
      "cell_type": "markdown",
      "metadata": {
        "id": "vyNNZX6AvBLS"
      },
      "source": [
        "# Questão 10:\n",
        "Pegue a lista gerada no exercício anterior e transforme cada um dos itens dessa lista em um float.\n",
        "\n",
        "OBS: Não é para alterar o programa anterior, mas sim a lista gerada por ele."
      ]
    },
    {
      "cell_type": "code",
      "metadata": {
        "id": "dnh_jL6VvJcb"
      },
      "source": [
        "lista = []\n",
        "for i in range(1, 6):\n",
        "  n = input(f'Digite o {i}° número: ')\n",
        "  lista.append(n)\n",
        "print(lista)\n",
        "\n",
        "lista1 = []\n",
        "for i in lista:\n",
        "  n = float(i)\n",
        "  lista1.append(n)\n",
        "print(lista1)"
      ],
      "execution_count": null,
      "outputs": []
    },
    {
      "cell_type": "markdown",
      "metadata": {
        "id": "qeYzww0dvMTj"
      },
      "source": [
        "# Questão 11:\n",
        "Faça um programa que peça as 4 notas bimestrais e mostre a média aritmética delas, usando listas."
      ]
    },
    {
      "cell_type": "code",
      "metadata": {
        "id": "f8X1rvUTvRO9"
      },
      "source": [
        "lista = []\n",
        "for i in range(1, 5):\n",
        "  lista.append(int(input(f'Digite a {i}° nota: ')))\n",
        "media = sum(lista)/len(lista)\n",
        "print(f'A média é {media:.2f}')"
      ],
      "execution_count": null,
      "outputs": []
    },
    {
      "cell_type": "markdown",
      "metadata": {
        "id": "zEEilsY_vUXi"
      },
      "source": [
        "# Questão 12:\n",
        "\n",
        "Sorteie uma lista de 10 números e imprima:\n",
        "\n",
        "a. uma lista com os 4 primeiros números;\n",
        "\n",
        "b. uma lista com os 5 últimos números;\n",
        "\n",
        "c. uma lista contendo apenas os elementos das posições pares;\n",
        "\n",
        "d. uma lista contendo apenas os elementos das posições ímpares;\n",
        "\n",
        "e. a lista inversa da lista sorteada (isto é, uma lista que começa com o último elemento da lista sorteada e termina com o primeiro);\n",
        "\n",
        "f. uma lista inversa dos 5 primeiros números;\n",
        "\n",
        "g. uma lista inversa dos 5 últimos números."
      ]
    },
    {
      "cell_type": "code",
      "metadata": {
        "id": "6c3yi736vh6P"
      },
      "source": [
        "from random import randint \n",
        "lista = [] \n",
        "lista_pares = [] \n",
        "lista_impares = []\n",
        "\n",
        "for i in range(10):\n",
        "  n = randint(1, 100)\n",
        "  if n%2 == 0:\n",
        "    lista_pares.append(n)\n",
        "  else:\n",
        "    lista_impares.append(n) \n",
        "  lista.append(n)\n",
        "\n",
        "print(lista)\n",
        "print(lista[:4]) \n",
        "print(lista[-5:]) \n",
        "print(lista_pares) \n",
        "print(lista_impares) \n",
        "print(list(reversed(lista))) \n",
        "print(list(reversed(lista[:5]))) \n",
        "print(list(reversed(lista[-5:])))"
      ],
      "execution_count": null,
      "outputs": []
    },
    {
      "cell_type": "markdown",
      "metadata": {
        "id": "JckDGXzFvjrc"
      },
      "source": [
        "# Questão 13:\n",
        "Faça um programa que sorteia 10 números entre 0 e 100 e conte quantos números sorteados são maiores que 50."
      ]
    },
    {
      "cell_type": "code",
      "metadata": {
        "id": "YWJk8pxyv2NC"
      },
      "source": [
        "from random import randint \n",
        "lista = [] \n",
        "maior50 = []\n",
        "\n",
        "for i in range(10):\n",
        "  n = randint(1, 100) \n",
        "  if n>50: \n",
        "    maior50.append(n)\n",
        "  lista.append(n)\n",
        "\n",
        "print(lista) \n",
        "print(f'Você teve {len(maior50)} números maiores que 50: {maior50}')"
      ],
      "execution_count": null,
      "outputs": []
    },
    {
      "cell_type": "markdown",
      "metadata": {
        "id": "W9o7D4Nwv5xb"
      },
      "source": [
        "# Questão 14:\n",
        "Faça um programa que sorteie 10 números entre 0 e 100 e imprima:\n",
        "\n",
        "a. o maior número sorteado;\n",
        "\n",
        "b. o menor número sorteado;\n",
        "\n",
        "c. a média dos números sorteados;\n",
        "\n",
        "d. a soma dos números sorteados."
      ]
    },
    {
      "cell_type": "code",
      "metadata": {
        "id": "sl9GZTlywI92"
      },
      "source": [
        "from random import randint \n",
        "lista = [] \n",
        "\n",
        "for i in range(10):\n",
        "  n = randint(1, 100) \n",
        "  lista.append(n)\n",
        "\n",
        "print(lista)\n",
        "print(max(lista))\n",
        "print(min(lista))\n",
        "print(sum(lista)/len(lista))\n",
        "print(sum(lista))"
      ],
      "execution_count": null,
      "outputs": []
    },
    {
      "cell_type": "markdown",
      "metadata": {
        "id": "XaZ5QmzTwLRk"
      },
      "source": [
        "# Questão 15:\n",
        "Desafio 1 - Faça um programa que peça para o usuário digitar o nome e a idade de um aluno e o número de provas que esse aluno fez. Depois, o programa deve pedir para o usuário digitar as notas de cada prova do aluno. Ao final o programa deve imprimir uma lista contendo:\n",
        "\n",
        "a. Nome do aluno na posição 0;\n",
        "\n",
        "b. Idade do aluno na posição 1;\n",
        "\n",
        "c. Uma lista com todas as notas na posição 2;\n",
        "\n",
        "d. A média do aluno na posição 3;\n",
        "\n",
        "e. True ou False, caso a média seja maior que 5 ou não, na posição 4.\n",
        "\n",
        "Dica: Use o que você fez nos exercícios anteriores para criar esse programa."
      ]
    },
    {
      "cell_type": "code",
      "metadata": {
        "id": "CLJgK7vGw-po"
      },
      "source": [
        "lista = [] \n",
        "lista_notas = []\n",
        "\n",
        "lista.append(input('Nome do aluno: '))\n",
        "lista.append(int(input('Idade do aluno: '))) \n",
        "n = int(input('Quantidade de provas que esse aluno fez: '))\n",
        "\n",
        "for i in range(1, n+1): \n",
        "  lista_notas.append(float(input(f'Nota na {i}° prova: ')))\n",
        "\n",
        "lista.append(lista_notas)\n",
        "\n",
        "m = sum(lista_notas)/len(lista_notas) \n",
        "lista.append(m)\n",
        "\n",
        "if m > 5: \n",
        "  lista.append(True) \n",
        "else: \n",
        "  lista.append(False)\n",
        "\n",
        "print(lista)"
      ],
      "execution_count": null,
      "outputs": []
    },
    {
      "cell_type": "markdown",
      "metadata": {
        "id": "mC83trRZxCye"
      },
      "source": [
        "# Questão 16:\n",
        "Desafio 2 - Faça um programa como o do item anterior, porém que imprima a média sem considerar a maior e menor nota do aluno (nesse caso o número de provas precisa ser obrigatoriamente maior que dois).\n",
        "\n",
        "Dica: crie uma cópia com a lista de todas as notas antes de fazer a média."
      ]
    },
    {
      "cell_type": "code",
      "metadata": {
        "id": "sPu2RPORxF0q"
      },
      "source": [
        "lista = [] \n",
        "lista_notas = []\n",
        "\n",
        "lista.append(input('Nome do aluno: ')) \n",
        "lista.append(int(input('Idade do aluno: '))) \n",
        "n = int(input('Quantidade de provas que esse aluno fez: '))\n",
        "\n",
        "for i in range(1, n+1): \n",
        "  lista_notas.append(float(input(f'Nota na {i}° prova: ')))\n",
        "\n",
        "lista.append(lista_notas)\n",
        "\n",
        "lista_notas_modificada = lista_notas[:]\n",
        "\n",
        "lista_notas_modificada.remove(max(lista_notas_modificada)) \n",
        "lista_notas_modificada.remove(min(lista_notas_modificada))\n",
        "\n",
        "m = sum(lista_notas_modificada)/len(lista_notas_modificada) \n",
        "lista.append(m)\n",
        "\n",
        "if m > 5: \n",
        "  lista.append(True) \n",
        "else: \n",
        "  lista.append(False)\n",
        "\n",
        "print(lista)"
      ],
      "execution_count": null,
      "outputs": []
    },
    {
      "cell_type": "markdown",
      "metadata": {
        "id": "TPhQ_uegxQc8"
      },
      "source": [
        "# Questão 17:\n",
        "\n",
        "Desafio 3 - Faça um programa que pede para o usuário digitar o CPF e verifica se ele é válido. Para isso, primeiramente o programa deve multiplicar cada um dos 9 primeiros dígitos do CPF pelos números de 10 a 2 e somar todas as respostas. O resultado deve ser multiplicado por 10 e dividido por 11. O resto dessa divisão deve ser igual ao primeiro dígito verificador (10º dígito). Em seguida, o programa deve multiplicar cada um dos 10 primeiros dígitos do CPF pelos números de 11 a 2 e repetir o procedimento anterior para verificar o segundo dígito verificador.\n",
        "\n",
        "Exemplo:\n",
        "\n",
        "Se o CPF for 286.255.878-87 o programa deve fazer primeiro:\n",
        "\n",
        "x = (2*10 + 8*9 + 6*8 + 2*7 + 5*6 + 5*5 + 8*4 + 7*3 + 8*2)\n",
        "\n",
        "Em seguida, o programa deve testar se x*10%11 == 8 (o décimo número do CPF). Se sim, o programa deve calcular:\n",
        "\n",
        "x = (2*11 + 8*10 + 6*9 + 2*8 + 5*7 + 5*6 + 8*5 + 7*4 + 8*3 + 8*2)\n",
        "\n",
        "e verificar se x*10%11 == 7 (o décimo primeiro número do CPF)."
      ]
    },
    {
      "cell_type": "code",
      "metadata": {
        "id": "i5K-n6USxbxu"
      },
      "source": [
        "cpf = input('Digite o seu cpf: ')\n",
        "cpfnum = []\n",
        "\n",
        "for i in range(len(cpf)):\n",
        "  if cpf[i] in '0123456789':\n",
        "    cpfnum.append(int(cpf[i]))\n",
        "\n",
        "print(cpfnum)\n",
        "\n",
        "x = 0\n",
        "c = 10\n",
        "\n",
        "for i in range(9):\n",
        "  s = cpfnum[i] * c\n",
        "  x += s\n",
        "  c -= 1\n",
        "\n",
        "r = x*10%11\n",
        "\n",
        "if r == cpfnum[9]:\n",
        "  x = 0\n",
        "  c = 11\n",
        "\n",
        "  for i in range(10):\n",
        "    s = cpfnum[i] * c\n",
        "    x += s\n",
        "    c -= 1\n",
        "\n",
        "  r = x*10%11\n",
        "\n",
        "  if r == cpfnum[10]:\n",
        "    print('CPF VÁLIDO')\n",
        "\n",
        "  else:\n",
        "    print('CPF INVÁLIDO')\n",
        "\n",
        "else:\n",
        "  print('CPF INVÁLIDO')"
      ],
      "execution_count": null,
      "outputs": []
    }
  ]
}